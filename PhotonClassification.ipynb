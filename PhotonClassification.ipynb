{
 "cells": [
  {
   "cell_type": "markdown",
   "metadata": {},
   "source": [
    "# Structured data classification with data from coffea processor\n",
    "\n",
    "Distinguish `ttgamma` vs. `ttbar`"
   ]
  },
  {
   "cell_type": "code",
   "execution_count": 1,
   "metadata": {},
   "outputs": [],
   "source": [
    "from coffea import hist, util\n",
    "\n",
    "import coffea.processor as processor\n",
    "from coffea.nanoevents import NanoEventsFactory, NanoAODSchema\n",
    "import awkward as ak\n",
    "import numpy as np\n",
    "import uproot\n",
    "import re\n",
    "\n",
    "from pprint import pprint\n",
    "import matplotlib.pyplot as plt\n",
    "import pandas as pd\n",
    "\n",
    "import tensorflow as tf\n",
    "from tensorflow import keras\n",
    "from tensorflow.keras import layers\n",
    "#from tensorflow.keras.layers.experimental.preprocessing import Normalization\n",
    "\n",
    "from sklearn.preprocessing import StandardScaler\n",
    "from sklearn.preprocessing import MinMaxScaler"
   ]
  },
  {
   "cell_type": "code",
   "execution_count": 2,
   "metadata": {},
   "outputs": [
    {
     "data": {
      "text/plain": [
       "'2.3.0'"
      ]
     },
     "execution_count": 2,
     "metadata": {},
     "output_type": "execute_result"
    }
   ],
   "source": [
    "tf.__version__"
   ]
  },
  {
   "cell_type": "code",
   "execution_count": 3,
   "metadata": {},
   "outputs": [],
   "source": [
    "class PhotonSelector(processor.ProcessorABC):\n",
    "    def __init__(self):\n",
    "        ## Initializer: define outputs.\n",
    "\n",
    "        # Declare axes\n",
    "        dataset_axis = hist.Cat(\"dataset\",\"Dataset\")\n",
    "        \n",
    "        photon_pt_axis = hist.Bin(\"pt\",\"photon $p_{T}$ [GeV]\", 40, 0, 400)\n",
    "        photon_eta_axis = hist.Bin(\"eta\",\"photon $\\eta$\", 50, -2.5, 2.5)\n",
    "        photon_phi_axis = hist.Bin(\"phi\",\"photon $\\phi$\", 64, -3.2, 3.2)\n",
    "        photon_reliso_axis = hist.Bin(\"reliso\",\"photon RelIso\", 40, -0.5, 6)\n",
    "        photon_sieie_axis = hist.Bin(\"sieie\",\"photon sigma_IetaIeta\", 40, 0, 0.05)\n",
    "        photon_r9_axis = hist.Bin(\"r9\",\"photon R9\", 40, -0.5, 1.5)\n",
    "        photon_hoe_axis = hist.Bin(\"hoe\",\"photon H over E\", 40, -0.5, 1)\n",
    "        \n",
    "        \n",
    "        # Accumulator object: dictionary storing histograms & counters to be filled\n",
    "        self._accumulator = processor.dict_accumulator({\n",
    "            \n",
    "            ## column accumulators: a list for each variable to be trained on,\n",
    "            ## filled when an event passes our selection.\n",
    "            'photon_pt': processor.column_accumulator(np.ndarray(shape=(1,1))),\n",
    "            'photon_eta': processor.column_accumulator(np.ndarray(shape=(1,1))),\n",
    "            'photon_phi': processor.column_accumulator(np.ndarray(shape=(1,1))),\n",
    "            'photon_reliso': processor.column_accumulator(np.ndarray(shape=(1,1))),\n",
    "            'photon_sieie': processor.column_accumulator(np.ndarray(shape=(1,1))),\n",
    "            'photon_r9': processor.column_accumulator(np.ndarray(shape=(1,1))),\n",
    "            'photon_hoe': processor.column_accumulator(np.ndarray(shape=(1,1))),\n",
    "            'label': processor.column_accumulator(np.ndarray(shape=(1,1))),\n",
    "            \n",
    "            ## histograms for features\n",
    "            'photon_pt_hist': hist.Hist(\"Counts\", dataset_axis, photon_pt_axis),\n",
    "            'photon_eta_hist': hist.Hist(\"Counts\", dataset_axis, photon_eta_axis),\n",
    "            'photon_phi_hist': hist.Hist(\"Counts\", dataset_axis, photon_phi_axis),\n",
    "            'photon_reliso_hist': hist.Hist(\"Counts\", dataset_axis, photon_reliso_axis),\n",
    "            'photon_sieie_hist': hist.Hist(\"Counts\", dataset_axis, photon_sieie_axis),\n",
    "            'photon_r9_hist': hist.Hist(\"Counts\", dataset_axis, photon_r9_axis),\n",
    "            'photon_hoe_hist': hist.Hist(\"Counts\", dataset_axis, photon_hoe_axis),\n",
    "        }\n",
    "        )\n",
    "\n",
    "    @property\n",
    "    def accumulator(self):\n",
    "        return self._accumulator\n",
    "\n",
    "    \n",
    "\n",
    "    # The process method is where the heart of the analysis is.  \n",
    "    # This is where all of the selections are done and the histograms get filled \n",
    "    #  (things you did in notebook cells before will be done here instead)\n",
    "    def process(self, events):\n",
    "        ### The process function is where most of the work happens. As we'll see below, this is\n",
    "        ### where the main analysis work happens (object cuts, event selections, filling histograms). \n",
    "        \n",
    "        ## This gets us the accumulator dictionary we defined in init\n",
    "        output = self.accumulator.identity()\n",
    "\n",
    "        ## To access variables from the ntuples, use the \"events\" object\n",
    "        ## The dataset name is part of events.metadata\n",
    "        dataset = events.metadata['dataset']\n",
    "\n",
    "        ## The coffea NanoEventSchema packages all photon variables (columns) into the events.Muon object\n",
    "        ## Each variable can be accessed using photons.key_name\n",
    "        \n",
    "        ######## Select good photons ########\n",
    "        photons = events.Photon\n",
    "        photonSelect= ((photons.pt>20) & \n",
    "                        (abs(photons.eta) < 1.4442) &\n",
    "                        (photons.isScEtaEE | photons.isScEtaEB) &\n",
    "                        (photons.electronVeto) & \n",
    "                        np.invert(photons.pixelSeed) \n",
    "                       )\n",
    "        tightPhotons = photons[photonSelect]\n",
    "        \n",
    "        ## other objects (for event selection):\n",
    "        # muons\n",
    "        muons=events.Muon\n",
    "        muonSelectTight = ((muons.pt>30) &\n",
    "                           (abs(muons.eta)<2.4) &\n",
    "                           (muons.tightId) &\n",
    "                           (muons.pfRelIso04_all < 0.15)\n",
    "                          )\n",
    "        tightMuons = muons[muonSelectTight]\n",
    "        # jets & b-tagged jets\n",
    "        jets=events.Jet\n",
    "        jetSelectTight = ((jets.pt>30) &\n",
    "                          (abs(jets.eta)<2.4) &\n",
    "                          (jets.isTight)\n",
    "                         )\n",
    "        btaggedJetSelect = (jetSelectTight &\n",
    "                           (jets.btagDeepB>0.6321)\n",
    "                          )\n",
    "        tightJets = jets[jetSelectTight]\n",
    "        tightBJets = jets[btaggedJetSelect]\n",
    "        # electrons\n",
    "        electrons=events.Electron\n",
    "        electronSelectTight = ((electrons.pt> 35) &\n",
    "                           (abs(electrons.eta)<2.1) &\n",
    "                            electrons.cutBased>=4   \n",
    "                         )\n",
    "        tightEle = electrons[electronSelectTight]\n",
    "        \n",
    "        \n",
    "        ######## Select good events #########\n",
    "        trigger = events.HLT.IsoMu24 | events.HLT.IsoTkMu24\n",
    "        \n",
    "        # Select events passing the trigger, with exactly one tight muon, ≥4 jets, ≥ 1 b-tagged jets, and 0 electrons. \n",
    "        eventSelection = (trigger &\n",
    "                          (ak.num(tightMuons)==1) &\n",
    "                          (ak.num(tightJets)>=4) & \n",
    "                          (ak.num(tightBJets)>=1) &\n",
    "                          (ak.num(tightEle)==0) &\n",
    "                          (ak.num(tightPhotons)==1))\n",
    "\n",
    "        # Fill the muon_pt histogram using the tightMuons in events that pass our selection \n",
    "        # Note that ak.flatten() is required when filling a histogram to remove the jaggedness\n",
    "        output['photon_pt_hist'].fill(dataset=dataset,\n",
    "                                      pt=ak.flatten(tightPhotons[eventSelection,:1].pt))\n",
    "        output['photon_eta_hist'].fill(dataset=dataset,\n",
    "                                      eta=ak.flatten(tightPhotons[eventSelection,:1].eta))\n",
    "        output['photon_phi_hist'].fill(dataset=dataset,\n",
    "                                      phi=ak.flatten(tightPhotons[eventSelection,:1].phi))\n",
    "        output['photon_reliso_hist'].fill(dataset=dataset,\n",
    "                                         reliso=ak.flatten(tightPhotons[eventSelection,:1].pfRelIso03_all))\n",
    "        output['photon_sieie_hist'].fill(dataset=dataset,\n",
    "                                      sieie=ak.flatten(tightPhotons[eventSelection,:1].sieie))\n",
    "        output['photon_r9_hist'].fill(dataset=dataset,\n",
    "                                      r9=ak.flatten(tightPhotons[eventSelection,:1].r9))\n",
    "        output['photon_hoe_hist'].fill(dataset=dataset,\n",
    "                                      hoe=ak.flatten(tightPhotons[eventSelection,:1].hoe))\n",
    "        \n",
    "        \n",
    "        # Leading photon\n",
    "        pt=processor.column_accumulator(ak.to_numpy(ak.pad_none(tightPhotons.pt[eventSelection,:1],1,clip=True)))\n",
    "        output['photon_pt']+=pt\n",
    "        \n",
    "        eta=processor.column_accumulator(ak.to_numpy(ak.pad_none(tightPhotons.eta[eventSelection,:1],1,clip=True)))\n",
    "        output['photon_eta']+=eta\n",
    "        \n",
    "        phi=processor.column_accumulator(ak.to_numpy(ak.pad_none(tightPhotons.phi[eventSelection,:1],1,clip=True)))\n",
    "        output['photon_phi']+=phi\n",
    "        \n",
    "        reliso=processor.column_accumulator(ak.to_numpy(ak.pad_none(tightPhotons.pfRelIso03_all[eventSelection,:1],1,clip=True)))\n",
    "        output['photon_reliso']+=reliso\n",
    "        \n",
    "        sieie=processor.column_accumulator(ak.to_numpy(ak.pad_none(tightPhotons.sieie[eventSelection,:1],1,clip=True)))\n",
    "        output['photon_sieie']+=sieie\n",
    "        \n",
    "        r9=processor.column_accumulator(ak.to_numpy(ak.pad_none(tightPhotons.r9[eventSelection,:1],1,clip=True)))\n",
    "        output['photon_r9']+=r9\n",
    "        \n",
    "        hoe=processor.column_accumulator(ak.to_numpy(ak.pad_none(tightPhotons.hoe[eventSelection,:1],1,clip=True)))\n",
    "        output['photon_hoe']+=hoe\n",
    "        \n",
    "        \n",
    "        if dataset=='TTGamma':\n",
    "            output['label'] += processor.column_accumulator(np.ones_like(ak.to_numpy(ak.pad_none(tightPhotons.pt[eventSelection,:1],1,clip=True))))\n",
    "        elif dataset=='TTbar':\n",
    "            output['label'] += processor.column_accumulator(np.zeros_like(ak.to_numpy(ak.pad_none(tightPhotons.pt[eventSelection,:1],1,clip=True))))\n",
    "        else:\n",
    "            output['label'] += processor.column_accumulator(2*np.ones_like(ak.to_numpy(ak.pad_none(tightPhotons.pt[eventSelection,:1],1,clip=True))))\n",
    "        \n",
    "        \n",
    "        return output\n",
    "\n",
    "    def postprocess(self, accumulator):\n",
    "        return accumulator"
   ]
  },
  {
   "cell_type": "code",
   "execution_count": 4,
   "metadata": {},
   "outputs": [],
   "source": [
    "#Define files to run over\n",
    "skimDir=\"/udrive/staff/dnoonan/Skims\"\n",
    "\n",
    "fileset = {\"TTGamma\":[f\"{skimDir}/TTGamma_SingleLept_2016_skim.root\"],\n",
    "           \"TTbar\":[f\"{skimDir}/TTbarPowheg_Semilept_2016_skim_1of10.root\",\n",
    "                    f\"{skimDir}/TTbarPowheg_Semilept_2016_skim_2of10.root\"],\n",
    "           #\"WGamma\":[f\"{skimDir}/WGamma_2016_skim.root\"],\n",
    "           #\"Z+jets\":[f'{skimDir}/DYjetsM50_ext2_2016_skim_1of10.root'],\n",
    "           #\"W+3jets\":[f\"{skimDir}/W3jets_2016_skim.root\"],\n",
    "           #\"W+4jets\":[f\"{skimDir}/W4jets_2016_skim.root\"],\n",
    "          }\n",
    "\n",
    "#filesetData = {\"DataMu\":[f\"{skimDir}/Data_SingleMu_b_2016_skim_1of10.root\"],\n",
    "#              }"
   ]
  },
  {
   "cell_type": "code",
   "execution_count": 5,
   "metadata": {},
   "outputs": [
    {
     "data": {
      "application/vnd.jupyter.widget-view+json": {
       "model_id": "8a8bcd86b87744a280958e594f9a88cd",
       "version_major": 2,
       "version_minor": 0
      },
      "text/plain": [
       "Preprocessing:   0%|          | 0/3 [00:00<?, ?file/s]"
      ]
     },
     "metadata": {},
     "output_type": "display_data"
    },
    {
     "data": {
      "application/vnd.jupyter.widget-view+json": {
       "model_id": "f4a6e1b446284a809bf4b649a7506795",
       "version_major": 2,
       "version_minor": 0
      },
      "text/plain": [
       "Processing:   0%|          | 0/10 [00:00<?, ?chunk/s]"
      ]
     },
     "metadata": {},
     "output_type": "display_data"
    }
   ],
   "source": [
    "np.warnings.filterwarnings('ignore')\n",
    "\n",
    "#the NanoAODSchema needs to be adjusted, to remove cross references to FSRPhotons\n",
    "class SkimmedSchema(NanoAODSchema):\n",
    "    def __init__(self, base_form):\n",
    "        base_form[\"contents\"].pop(\"Muon_fsrPhotonIdx\", None)\n",
    "        super().__init__(base_form)\n",
    "\n",
    "#Run Coffea code using uproot\n",
    "outputMC = processor.run_uproot_job(\n",
    "    fileset,  #dictionary of datasets to run on, defined earlier in this cell\n",
    "    \"Events\", #Name of the TTree you will be opening\n",
    "    PhotonSelector(),  #Coffea processor you defined\n",
    "    processor.futures_executor,\n",
    "    executor_args={\"schema\": SkimmedSchema,'workers': 4},  ## workers = 2, parallelize jobs, running 2 at once\n",
    "    chunksize=1000000, #in each chunk, use 1 million events\n",
    "    #maxchunks=3, #limit to using only 3 chunks for each dataset (useful for testing purposes)\n",
    ")"
   ]
  },
  {
   "cell_type": "code",
   "execution_count": 6,
   "metadata": {},
   "outputs": [
    {
     "data": {
      "text/plain": [
       "'outputData = processor.run_uproot_job(\\n    filesetData,\\n    \"Events\",\\n    PhotonSelector(),\\n    processor.futures_executor,\\n    executor_args={\"schema\": SkimmedSchema,\\'workers\\': 4},\\n    chunksize=1000000,\\n)\\n'"
      ]
     },
     "execution_count": 6,
     "metadata": {},
     "output_type": "execute_result"
    }
   ],
   "source": [
    "'''\n",
    "outputData = processor.run_uproot_job(\n",
    "    filesetData,\n",
    "    \"Events\",\n",
    "    PhotonSelector(),\n",
    "    processor.futures_executor,\n",
    "    executor_args={\"schema\": SkimmedSchema,'workers': 4},\n",
    "    chunksize=1000000,\n",
    ")\n",
    "'''"
   ]
  },
  {
   "cell_type": "code",
   "execution_count": 7,
   "metadata": {},
   "outputs": [
    {
     "data": {
      "text/plain": [
       "'\\nnEvents = {}\\nfor d in fileset:\\n    if not d in nEvents:\\n        nEvents[d] = 0\\n    for fName in fileset[d]:\\n        with uproot.open(fName)[\\'hEvents\\'] as hEvents:\\n            nEvents[d] += hEvents.values()[0] + hEvents.values()[2]\\ncx = {\\'TTGamma\\':7.509,\\n     \\'TTbar\\': 380.095,\\n     \\'WGamma\\':489,\\n     \\'Z+jets\\':6077.22,\\n     \\'W+3jets\\':1165.8108,\\n     \\'W+4jets\\':592.9176}\\nlumi_weight = {}\\nfor keyName in fileset:\\n    lumi_weight[keyName] = (cx[keyName]*450.)/nEvents[keyName]\\n    \\nfor key, obj in outputMC.items():\\n    if isinstance(obj, hist.Hist):\\n        obj.scale(lumi_weight, axis=\"dataset\")\\n'"
      ]
     },
     "execution_count": 7,
     "metadata": {},
     "output_type": "execute_result"
    }
   ],
   "source": [
    "'''\n",
    "nEvents = {}\n",
    "for d in fileset:\n",
    "    if not d in nEvents:\n",
    "        nEvents[d] = 0\n",
    "    for fName in fileset[d]:\n",
    "        with uproot.open(fName)['hEvents'] as hEvents:\n",
    "            nEvents[d] += hEvents.values()[0] + hEvents.values()[2]\n",
    "cx = {'TTGamma':7.509,\n",
    "     'TTbar': 380.095,\n",
    "     'WGamma':489,\n",
    "     'Z+jets':6077.22,\n",
    "     'W+3jets':1165.8108,\n",
    "     'W+4jets':592.9176}\n",
    "lumi_weight = {}\n",
    "for keyName in fileset:\n",
    "    lumi_weight[keyName] = (cx[keyName]*450.)/nEvents[keyName]\n",
    "    \n",
    "for key, obj in outputMC.items():\n",
    "    if isinstance(obj, hist.Hist):\n",
    "        obj.scale(lumi_weight, axis=\"dataset\")\n",
    "'''"
   ]
  },
  {
   "cell_type": "code",
   "execution_count": 8,
   "metadata": {},
   "outputs": [
    {
     "data": {
      "text/plain": [
       "\"\\ndata_err_opts = {\\n    'linestyle':'none',\\n    'marker': '.',\\n    'markersize': 10.,\\n    'color':'k',\\n    'elinewidth': 1,\\n}\\n\""
      ]
     },
     "execution_count": 8,
     "metadata": {},
     "output_type": "execute_result"
    }
   ],
   "source": [
    "'''\n",
    "data_err_opts = {\n",
    "    'linestyle':'none',\n",
    "    'marker': '.',\n",
    "    'markersize': 10.,\n",
    "    'color':'k',\n",
    "    'elinewidth': 1,\n",
    "}\n",
    "'''"
   ]
  },
  {
   "cell_type": "code",
   "execution_count": 9,
   "metadata": {},
   "outputs": [
    {
     "data": {
      "text/plain": [
       "<AxesSubplot:xlabel='photon $p_{T}$ [GeV]', ylabel='Counts'>"
      ]
     },
     "execution_count": 9,
     "metadata": {},
     "output_type": "execute_result"
    },
    {
     "data": {
      "image/png": "[encoded data removed]",
      "text/plain": [
       "<Figure size 432x288 with 1 Axes>"
      ]
     },
     "metadata": {
      "needs_background": "light"
     },
     "output_type": "display_data"
    }
   ],
   "source": [
    "#### Histograms ###\n",
    "\n",
    "hist.plot1d(outputMC['photon_pt_hist'],overlay='dataset',order=['TTbar','TTGamma'],stack=False,density=True)"
   ]
  },
  {
   "cell_type": "code",
   "execution_count": 10,
   "metadata": {},
   "outputs": [
    {
     "data": {
      "text/plain": [
       "<AxesSubplot:xlabel='photon $\\\\eta$', ylabel='Counts'>"
      ]
     },
     "execution_count": 10,
     "metadata": {},
     "output_type": "execute_result"
    },
    {
     "data": {
      "image/png": "[encoded data removed]",
      "text/plain": [
       "<Figure size 432x288 with 1 Axes>"
      ]
     },
     "metadata": {
      "needs_background": "light"
     },
     "output_type": "display_data"
    }
   ],
   "source": [
    "hist.plot1d(outputMC['photon_eta_hist'],overlay='dataset',order=['TTbar','TTGamma'],stack=False,density=True)"
   ]
  },
  {
   "cell_type": "code",
   "execution_count": 11,
   "metadata": {},
   "outputs": [
    {
     "data": {
      "text/plain": [
       "<AxesSubplot:xlabel='photon $\\\\phi$', ylabel='Counts'>"
      ]
     },
     "execution_count": 11,
     "metadata": {},
     "output_type": "execute_result"
    },
    {
     "data": {
      "image/png": "[encoded data removed]",
      "text/plain": [
       "<Figure size 432x288 with 1 Axes>"
      ]
     },
     "metadata": {
      "needs_background": "light"
     },
     "output_type": "display_data"
    }
   ],
   "source": [
    "hist.plot1d(outputMC['photon_phi_hist'],overlay='dataset',order=['TTbar','TTGamma'],stack=False,density=True)"
   ]
  },
  {
   "cell_type": "code",
   "execution_count": 12,
   "metadata": {},
   "outputs": [
    {
     "data": {
      "text/plain": [
       "<AxesSubplot:xlabel='photon RelIso', ylabel='Counts'>"
      ]
     },
     "execution_count": 12,
     "metadata": {},
     "output_type": "execute_result"
    },
    {
     "data": {
      "image/png": "[encoded data removed]",
      "text/plain": [
       "<Figure size 432x288 with 1 Axes>"
      ]
     },
     "metadata": {
      "needs_background": "light"
     },
     "output_type": "display_data"
    }
   ],
   "source": [
    "hist.plot1d(outputMC['photon_reliso_hist'],overlay='dataset',order=['TTbar','TTGamma'],stack=False,density=True)"
   ]
  },
  {
   "cell_type": "code",
   "execution_count": 13,
   "metadata": {},
   "outputs": [
    {
     "data": {
      "text/plain": [
       "<AxesSubplot:xlabel='photon sigma_IetaIeta', ylabel='Counts'>"
      ]
     },
     "execution_count": 13,
     "metadata": {},
     "output_type": "execute_result"
    },
    {
     "data": {
      "image/png": "[encoded data removed]",
      "text/plain": [
       "<Figure size 432x288 with 1 Axes>"
      ]
     },
     "metadata": {
      "needs_background": "light"
     },
     "output_type": "display_data"
    }
   ],
   "source": [
    "hist.plot1d(outputMC['photon_sieie_hist'],overlay='dataset',order=['TTbar','TTGamma'],stack=False,density=True)"
   ]
  },
  {
   "cell_type": "code",
   "execution_count": 14,
   "metadata": {},
   "outputs": [
    {
     "data": {
      "text/plain": [
       "<AxesSubplot:xlabel='photon R9', ylabel='Counts'>"
      ]
     },
     "execution_count": 14,
     "metadata": {},
     "output_type": "execute_result"
    },
    {
     "data": {
      "image/png": "[encoded data removed]",
      "text/plain": [
       "<Figure size 432x288 with 1 Axes>"
      ]
     },
     "metadata": {
      "needs_background": "light"
     },
     "output_type": "display_data"
    }
   ],
   "source": [
    "hist.plot1d(outputMC['photon_r9_hist'],overlay='dataset',order=['TTbar','TTGamma'],stack=False,density=True)"
   ]
  },
  {
   "cell_type": "code",
   "execution_count": 15,
   "metadata": {},
   "outputs": [
    {
     "data": {
      "text/plain": [
       "<AxesSubplot:xlabel='photon H over E', ylabel='Counts'>"
      ]
     },
     "execution_count": 15,
     "metadata": {},
     "output_type": "execute_result"
    },
    {
     "data": {
      "image/png": "[encoded data removed]",
      "text/plain": [
       "<Figure size 432x288 with 1 Axes>"
      ]
     },
     "metadata": {
      "needs_background": "light"
     },
     "output_type": "display_data"
    }
   ],
   "source": [
    "hist.plot1d(outputMC['photon_hoe_hist'],overlay='dataset',order=['TTbar','TTGamma'],stack=False,density=True)"
   ]
  },
  {
   "cell_type": "code",
   "execution_count": 16,
   "metadata": {},
   "outputs": [],
   "source": [
    "#### Column accumulators ####"
   ]
  },
  {
   "cell_type": "code",
   "execution_count": 17,
   "metadata": {},
   "outputs": [
    {
     "data": {
      "text/plain": [
       "(855579, 1)"
      ]
     },
     "execution_count": 17,
     "metadata": {},
     "output_type": "execute_result"
    }
   ],
   "source": [
    "outputMC['photon_pt'].value.shape"
   ]
  },
  {
   "cell_type": "code",
   "execution_count": 18,
   "metadata": {},
   "outputs": [
    {
     "data": {
      "text/plain": [
       "column_accumulator(masked_array(\n",
       "  data=[[31.75030708],\n",
       "        [21.61360741],\n",
       "        [23.44291878],\n",
       "        ...,\n",
       "        [50.53926086],\n",
       "        [38.89995193],\n",
       "        [20.48979759]],\n",
       "  mask=False,\n",
       "  fill_value=1e+20))"
      ]
     },
     "execution_count": 18,
     "metadata": {},
     "output_type": "execute_result"
    }
   ],
   "source": [
    "outputMC['photon_pt']"
   ]
  },
  {
   "cell_type": "code",
   "execution_count": 19,
   "metadata": {},
   "outputs": [
    {
     "data": {
      "text/plain": [
       "column_accumulator(masked_array(\n",
       "  data=[[-0.71582031],\n",
       "        [ 1.01953125],\n",
       "        [ 0.79907227],\n",
       "        ...,\n",
       "        [ 0.76745605],\n",
       "        [ 0.38262939],\n",
       "        [-1.24365234]],\n",
       "  mask=False,\n",
       "  fill_value=1e+20))"
      ]
     },
     "execution_count": 19,
     "metadata": {},
     "output_type": "execute_result"
    }
   ],
   "source": [
    "outputMC['photon_eta']"
   ]
  },
  {
   "cell_type": "code",
   "execution_count": 20,
   "metadata": {},
   "outputs": [
    {
     "data": {
      "text/plain": [
       "column_accumulator(masked_array(\n",
       "  data=[[-0.64953613],\n",
       "        [-2.38769531],\n",
       "        [ 2.75097656],\n",
       "        ...,\n",
       "        [-2.48242188],\n",
       "        [-0.27545166],\n",
       "        [-1.12719727]],\n",
       "  mask=False,\n",
       "  fill_value=1e+20))"
      ]
     },
     "execution_count": 20,
     "metadata": {},
     "output_type": "execute_result"
    }
   ],
   "source": [
    "outputMC['photon_phi']"
   ]
  },
  {
   "cell_type": "code",
   "execution_count": 21,
   "metadata": {},
   "outputs": [
    {
     "data": {
      "text/plain": [
       "column_accumulator(masked_array(\n",
       "  data=[[0.],\n",
       "        [0.],\n",
       "        [0.],\n",
       "        ...,\n",
       "        [1.],\n",
       "        [1.],\n",
       "        [1.]],\n",
       "  mask=False,\n",
       "  fill_value=1e+20))"
      ]
     },
     "execution_count": 21,
     "metadata": {},
     "output_type": "execute_result"
    }
   ],
   "source": [
    "outputMC['label'] # is [everything else=2], [TTbar=0], [TTGamma=1] the right order?"
   ]
  },
  {
   "cell_type": "markdown",
   "metadata": {},
   "source": [
    "## Preprocessing"
   ]
  },
  {
   "cell_type": "code",
   "execution_count": 32,
   "metadata": {},
   "outputs": [
    {
     "data": {
      "text/plain": [
       "array([[-0.4092317 , -0.92111717, -0.36464334, ...,  2.14429822,\n",
       "        -2.09175175, -0.2590582 ],\n",
       "       [-0.65913058,  1.29955658, -1.32203159, ..., -0.07494946,\n",
       "         0.3325147 , -1.07888376],\n",
       "       [-0.61403278,  1.01744228,  1.50837896, ...,  0.97477703,\n",
       "         0.71526683, -0.35283898],\n",
       "       ...,\n",
       "       [ 0.05397019,  0.97698403, -1.37420754, ..., -1.260714  ,\n",
       "        -0.10927898, -1.07888376],\n",
       "       [-0.23297234,  0.48453369, -0.15859542, ..., -0.68001424,\n",
       "         1.0389774 , -1.07888376],\n",
       "       [-0.68683574, -1.5965669 , -0.62774189, ..., -0.89320821,\n",
       "        -0.25382898,  0.89353788]])"
      ]
     },
     "execution_count": 32,
     "metadata": {},
     "output_type": "execute_result"
    }
   ],
   "source": [
    "## normalize z-score: mean = 0, stdev = 1\n",
    "\n",
    "scaler = StandardScaler() # from scikit learn\n",
    "\n",
    "feature_array = np.transpose(np.array([\n",
    "    np.array(outputMC['photon_pt'].value)[:,0],\n",
    "    np.array(outputMC['photon_eta'].value)[:,0],\n",
    "    np.array(outputMC['photon_phi'].value)[:,0],\n",
    "    np.array(outputMC['photon_reliso'].value)[:,0],\n",
    "    np.array(outputMC['photon_sieie'].value)[:,0],\n",
    "    np.array(outputMC['photon_r9'].value)[:,0],\n",
    "    np.array(outputMC['photon_hoe'].value)[:,0]\n",
    "]))\n",
    "\n",
    "scaler.fit(feature_array)\n",
    "scaled_feature_array = scaler.transform(feature_array)\n",
    "scaled_feature_array"
   ]
  },
  {
   "cell_type": "code",
   "execution_count": 33,
   "metadata": {},
   "outputs": [
    {
     "data": {
      "text/plain": [
       "array([[-0.4092317 , -0.92111717, -0.36464334, ..., -2.09175175,\n",
       "        -0.2590582 ,  0.        ],\n",
       "       [-0.65913058,  1.29955658, -1.32203159, ...,  0.3325147 ,\n",
       "        -1.07888376,  0.        ],\n",
       "       [-0.61403278,  1.01744228,  1.50837896, ...,  0.71526683,\n",
       "        -0.35283898,  0.        ],\n",
       "       ...,\n",
       "       [ 0.05397019,  0.97698403, -1.37420754, ..., -0.10927898,\n",
       "        -1.07888376,  1.        ],\n",
       "       [-0.23297234,  0.48453369, -0.15859542, ...,  1.0389774 ,\n",
       "        -1.07888376,  1.        ],\n",
       "       [-0.68683574, -1.5965669 , -0.62774189, ..., -0.25382898,\n",
       "         0.89353788,  1.        ]])"
      ]
     },
     "execution_count": 33,
     "metadata": {},
     "output_type": "execute_result"
    }
   ],
   "source": [
    "# add target column\n",
    "data_array = np.append(scaled_feature_array, np.array(outputMC['label'].value), 1)\n",
    "data_array"
   ]
  },
  {
   "cell_type": "code",
   "execution_count": 34,
   "metadata": {},
   "outputs": [],
   "source": [
    "## numpy data array --> pandas dataframe ##\n",
    "df = pd.DataFrame({\n",
    "        'pt': data_array[:,0],\n",
    "        'eta': data_array[:,1],\n",
    "        'phi': data_array[:,2],\n",
    "        'reliso': data_array[:,3],\n",
    "        'sieie': data_array[:,4],\n",
    "        'r9': data_array[:,5],\n",
    "        'hoe': data_array[:,6],\n",
    "        'target': data_array[:,7]\n",
    "})\n",
    "val_df = df.sample(frac=0.1, random_state=1337) # 10% validation\n",
    "train_df = df.drop(val_df.index)                # 90% training\n",
    "\n",
    "\n",
    "## pandas dataframe --> tensorflow dataset ##\n",
    "def dataframe_to_dataset(dataframe):\n",
    "    dataframe = dataframe.copy()\n",
    "    labels = dataframe.pop('target')\n",
    "    ds = tf.data.Dataset.from_tensor_slices((dict(dataframe), labels)) # dataset object\n",
    "    ds = ds.shuffle(buffer_size=len(dataframe))\n",
    "    return ds\n",
    "\n",
    "train_ds = dataframe_to_dataset(train_df)\n",
    "val_ds = dataframe_to_dataset(val_df)\n",
    "\n",
    "\n",
    "## batch the datasets ##\n",
    "train_ds = train_ds.batch(128)\n",
    "val_ds = val_ds.batch(128)"
   ]
  },
  {
   "cell_type": "code",
   "execution_count": 35,
   "metadata": {},
   "outputs": [
    {
     "data": {
      "text/html": [
       "<div>\n",
       "<style scoped>\n",
       "    .dataframe tbody tr th:only-of-type {\n",
       "        vertical-align: middle;\n",
       "    }\n",
       "\n",
       "    .dataframe tbody tr th {\n",
       "        vertical-align: top;\n",
       "    }\n",
       "\n",
       "    .dataframe thead th {\n",
       "        text-align: right;\n",
       "    }\n",
       "</style>\n",
       "<table border=\"1\" class=\"dataframe\">\n",
       "  <thead>\n",
       "    <tr style=\"text-align: right;\">\n",
       "      <th></th>\n",
       "      <th>pt</th>\n",
       "      <th>eta</th>\n",
       "      <th>phi</th>\n",
       "      <th>reliso</th>\n",
       "      <th>sieie</th>\n",
       "      <th>r9</th>\n",
       "      <th>hoe</th>\n",
       "      <th>target</th>\n",
       "    </tr>\n",
       "  </thead>\n",
       "  <tbody>\n",
       "    <tr>\n",
       "      <th>310209</th>\n",
       "      <td>0.155137</td>\n",
       "      <td>1.592918</td>\n",
       "      <td>-1.645038</td>\n",
       "      <td>0.570805</td>\n",
       "      <td>-0.355147</td>\n",
       "      <td>0.908679</td>\n",
       "      <td>1.311014</td>\n",
       "      <td>0.0</td>\n",
       "    </tr>\n",
       "    <tr>\n",
       "      <th>289450</th>\n",
       "      <td>4.891628</td>\n",
       "      <td>-0.627209</td>\n",
       "      <td>0.144039</td>\n",
       "      <td>-0.334361</td>\n",
       "      <td>0.000176</td>\n",
       "      <td>-1.522204</td>\n",
       "      <td>-0.342251</td>\n",
       "      <td>0.0</td>\n",
       "    </tr>\n",
       "    <tr>\n",
       "      <th>255702</th>\n",
       "      <td>-0.420119</td>\n",
       "      <td>-1.379748</td>\n",
       "      <td>-1.197240</td>\n",
       "      <td>0.392957</td>\n",
       "      <td>3.265089</td>\n",
       "      <td>-1.234122</td>\n",
       "      <td>1.788993</td>\n",
       "      <td>0.0</td>\n",
       "    </tr>\n",
       "    <tr>\n",
       "      <th>99474</th>\n",
       "      <td>-0.164674</td>\n",
       "      <td>-0.792088</td>\n",
       "      <td>-0.771091</td>\n",
       "      <td>-0.305480</td>\n",
       "      <td>-0.730775</td>\n",
       "      <td>-0.378020</td>\n",
       "      <td>0.294551</td>\n",
       "      <td>0.0</td>\n",
       "    </tr>\n",
       "    <tr>\n",
       "      <th>72634</th>\n",
       "      <td>-0.631786</td>\n",
       "      <td>1.021348</td>\n",
       "      <td>1.436570</td>\n",
       "      <td>1.113320</td>\n",
       "      <td>1.965621</td>\n",
       "      <td>1.093947</td>\n",
       "      <td>-1.078884</td>\n",
       "      <td>0.0</td>\n",
       "    </tr>\n",
       "    <tr>\n",
       "      <th>...</th>\n",
       "      <td>...</td>\n",
       "      <td>...</td>\n",
       "      <td>...</td>\n",
       "      <td>...</td>\n",
       "      <td>...</td>\n",
       "      <td>...</td>\n",
       "      <td>...</td>\n",
       "      <td>...</td>\n",
       "    </tr>\n",
       "    <tr>\n",
       "      <th>715249</th>\n",
       "      <td>-0.524856</td>\n",
       "      <td>1.735693</td>\n",
       "      <td>-0.346489</td>\n",
       "      <td>-0.457133</td>\n",
       "      <td>-0.795748</td>\n",
       "      <td>0.831314</td>\n",
       "      <td>-0.950313</td>\n",
       "      <td>1.0</td>\n",
       "    </tr>\n",
       "    <tr>\n",
       "      <th>244493</th>\n",
       "      <td>-0.291462</td>\n",
       "      <td>1.790367</td>\n",
       "      <td>-0.246205</td>\n",
       "      <td>-0.282390</td>\n",
       "      <td>-0.089162</td>\n",
       "      <td>-1.229033</td>\n",
       "      <td>1.680086</td>\n",
       "      <td>0.0</td>\n",
       "    </tr>\n",
       "    <tr>\n",
       "      <th>849658</th>\n",
       "      <td>10.655534</td>\n",
       "      <td>-0.590422</td>\n",
       "      <td>1.577768</td>\n",
       "      <td>-0.888277</td>\n",
       "      <td>-0.913512</td>\n",
       "      <td>0.965684</td>\n",
       "      <td>-1.028023</td>\n",
       "      <td>1.0</td>\n",
       "    </tr>\n",
       "    <tr>\n",
       "      <th>795447</th>\n",
       "      <td>0.014035</td>\n",
       "      <td>1.134912</td>\n",
       "      <td>0.840850</td>\n",
       "      <td>-0.894465</td>\n",
       "      <td>-0.811991</td>\n",
       "      <td>0.986044</td>\n",
       "      <td>-1.078884</td>\n",
       "      <td>1.0</td>\n",
       "    </tr>\n",
       "    <tr>\n",
       "      <th>173303</th>\n",
       "      <td>-0.651876</td>\n",
       "      <td>-1.065455</td>\n",
       "      <td>0.746987</td>\n",
       "      <td>-0.084925</td>\n",
       "      <td>-0.604889</td>\n",
       "      <td>-1.276877</td>\n",
       "      <td>1.782943</td>\n",
       "      <td>0.0</td>\n",
       "    </tr>\n",
       "  </tbody>\n",
       "</table>\n",
       "<p>85558 rows × 8 columns</p>\n",
       "</div>"
      ],
      "text/plain": [
       "               pt       eta       phi    reliso     sieie        r9       hoe  \\\n",
       "310209   0.155137  1.592918 -1.645038  0.570805 -0.355147  0.908679  1.311014   \n",
       "289450   4.891628 -0.627209  0.144039 -0.334361  0.000176 -1.522204 -0.342251   \n",
       "255702  -0.420119 -1.379748 -1.197240  0.392957  3.265089 -1.234122  1.788993   \n",
       "99474   -0.164674 -0.792088 -0.771091 -0.305480 -0.730775 -0.378020  0.294551   \n",
       "72634   -0.631786  1.021348  1.436570  1.113320  1.965621  1.093947 -1.078884   \n",
       "...           ...       ...       ...       ...       ...       ...       ...   \n",
       "715249  -0.524856  1.735693 -0.346489 -0.457133 -0.795748  0.831314 -0.950313   \n",
       "244493  -0.291462  1.790367 -0.246205 -0.282390 -0.089162 -1.229033  1.680086   \n",
       "849658  10.655534 -0.590422  1.577768 -0.888277 -0.913512  0.965684 -1.028023   \n",
       "795447   0.014035  1.134912  0.840850 -0.894465 -0.811991  0.986044 -1.078884   \n",
       "173303  -0.651876 -1.065455  0.746987 -0.084925 -0.604889 -1.276877  1.782943   \n",
       "\n",
       "        target  \n",
       "310209     0.0  \n",
       "289450     0.0  \n",
       "255702     0.0  \n",
       "99474      0.0  \n",
       "72634      0.0  \n",
       "...        ...  \n",
       "715249     1.0  \n",
       "244493     0.0  \n",
       "849658     1.0  \n",
       "795447     1.0  \n",
       "173303     0.0  \n",
       "\n",
       "[85558 rows x 8 columns]"
      ]
     },
     "execution_count": 35,
     "metadata": {},
     "output_type": "execute_result"
    }
   ],
   "source": [
    "val_df"
   ]
  },
  {
   "cell_type": "code",
   "execution_count": 36,
   "metadata": {},
   "outputs": [
    {
     "name": "stdout",
     "output_type": "stream",
     "text": [
      "-1.3752777597611979e-17\n",
      "1.0\n"
     ]
    }
   ],
   "source": [
    "print(np.mean(df.pt)) # ~0\n",
    "print(np.std(df.pt))  # ~1"
   ]
  },
  {
   "cell_type": "code",
   "execution_count": 41,
   "metadata": {},
   "outputs": [],
   "source": [
    "# define the model\n",
    "all_inputs = [\n",
    "        keras.Input(shape=(1,), name='pt'),\n",
    "        keras.Input(shape=(1,), name='eta'),\n",
    "        keras.Input(shape=(1,), name='phi'),\n",
    "        keras.Input(shape=(1,), name='reliso'),\n",
    "        keras.Input(shape=(1,), name='sieie'),\n",
    "        keras.Input(shape=(1,), name='r9'),\n",
    "        keras.Input(shape=(1,), name='hoe')\n",
    "]\n",
    "\n",
    "all_features = layers.concatenate(all_inputs)\n",
    "x = layers.Dense(32, activation=\"relu\")(all_features)\n",
    "x = layers.Dense(32, activation=\"relu\")(x)\n",
    "output = layers.Dense(1, activation=\"sigmoid\")(x)\n",
    "\n",
    "model = keras.Model(all_inputs, output)\n",
    "model.compile(\"adam\", \"binary_crossentropy\", metrics=[\"accuracy\"])"
   ]
  },
  {
   "cell_type": "code",
   "execution_count": 42,
   "metadata": {},
   "outputs": [
    {
     "name": "stdout",
     "output_type": "stream",
     "text": [
      "Epoch 1/5\n",
      "6016/6016 [==============================] - 25s 4ms/step - loss: 0.4909 - accuracy: 0.7846 - val_loss: 0.4824 - val_accuracy: 0.7897\n",
      "Epoch 2/5\n",
      "6016/6016 [==============================] - 25s 4ms/step - loss: 0.4831 - accuracy: 0.7895 - val_loss: 0.4813 - val_accuracy: 0.7907\n",
      "Epoch 3/5\n",
      "6016/6016 [==============================] - 27s 4ms/step - loss: 0.4819 - accuracy: 0.7900 - val_loss: 0.4824 - val_accuracy: 0.7908\n",
      "Epoch 4/5\n",
      "6016/6016 [==============================] - 26s 4ms/step - loss: 0.4814 - accuracy: 0.7905 - val_loss: 0.4834 - val_accuracy: 0.7902\n",
      "Epoch 5/5\n",
      "6016/6016 [==============================] - 24s 4ms/step - loss: 0.4810 - accuracy: 0.7906 - val_loss: 0.4804 - val_accuracy: 0.7912\n"
     ]
    },
    {
     "data": {
      "text/plain": [
       "<tensorflow.python.keras.callbacks.History at 0x7f8e98100250>"
      ]
     },
     "execution_count": 42,
     "metadata": {},
     "output_type": "execute_result"
    }
   ],
   "source": [
    "# train the model on our dataset\n",
    "model.fit(train_ds, epochs=5, validation_data=val_ds)"
   ]
  },
  {
   "cell_type": "code",
   "execution_count": null,
   "metadata": {},
   "outputs": [],
   "source": []
  },
  {
   "cell_type": "code",
   "execution_count": null,
   "metadata": {},
   "outputs": [],
   "source": []
  },
  {
   "cell_type": "code",
   "execution_count": null,
   "metadata": {},
   "outputs": [],
   "source": []
  }
 ],
 "metadata": {
  "kernelspec": {
   "display_name": "Python 3",
   "language": "python",
   "name": "python3"
  },
  "language_info": {
   "codemirror_mode": {
    "name": "ipython",
    "version": 3
   },
   "file_extension": ".py",
   "mimetype": "text/x-python",
   "name": "python",
   "nbconvert_exporter": "python",
   "pygments_lexer": "ipython3",
   "version": "3.8.5"
  }
 },
 "nbformat": 4,
 "nbformat_minor": 4
}
