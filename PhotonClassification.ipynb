{
 "cells": [
  {
   "cell_type": "markdown",
   "metadata": {},
   "source": [
    "# Structured data classification with data from coffea processor\n",
    "\n",
    "Distinguish `ttgamma` vs. `ttbar`"
   ]
  },
  {
   "cell_type": "code",
   "execution_count": 1,
   "metadata": {},
   "outputs": [],
   "source": [
    "from coffea import hist, util\n",
    "\n",
    "import coffea.processor as processor\n",
    "from coffea.nanoevents import NanoEventsFactory, NanoAODSchema\n",
    "import awkward as ak\n",
    "import numpy as np\n",
    "import uproot\n",
    "import re\n",
    "\n",
    "from pprint import pprint\n",
    "import matplotlib.pyplot as plt\n",
    "import pandas as pd\n",
    "\n",
    "import tensorflow as tf\n",
    "from tensorflow import keras\n",
    "from tensorflow.keras import layers\n",
    "from keras.models import Sequential\n",
    "from keras.layers import Dense\n",
    "#from tensorflow.keras.layers.experimental.preprocessing import Normalization\n",
    "\n",
    "from sklearn.preprocessing import StandardScaler, MinMaxScaler\n",
    "from sklearn.model_selection import train_test_split\n",
    "from sklearn.metrics import roc_curve, auc"
   ]
  },
  {
   "cell_type": "code",
   "execution_count": 2,
   "metadata": {},
   "outputs": [
    {
     "data": {
      "text/plain": [
       "'2.3.0'"
      ]
     },
     "execution_count": 2,
     "metadata": {},
     "output_type": "execute_result"
    }
   ],
   "source": [
    "tf.__version__"
   ]
  },
  {
   "cell_type": "code",
   "execution_count": 3,
   "metadata": {},
   "outputs": [],
   "source": [
    "class PhotonSelector(processor.ProcessorABC):\n",
    "    def __init__(self):\n",
    "        ## Initializer: define outputs.\n",
    "\n",
    "        # Declare axes\n",
    "        dataset_axis = hist.Cat(\"dataset\",\"Dataset\")\n",
    "        \n",
    "        photon_pt_axis = hist.Bin(\"pt\",\"photon $p_{T}$ [GeV]\", 40, 0, 400)\n",
    "        photon_eta_axis = hist.Bin(\"eta\",\"photon $\\eta$\", 50, -2.5, 2.5)\n",
    "        photon_phi_axis = hist.Bin(\"phi\",\"photon $\\phi$\", 64, -3.2, 3.2)\n",
    "        photon_reliso_all_axis = hist.Bin(\"reliso\",\"photon pfRelIso03_all\", 40, -0.5, 6)\n",
    "        photon_reliso_chg_axis = hist.Bin(\"reliso\",\"photon pfRelIso03_chg\", 40, -0.5, 6)\n",
    "        photon_sieie_axis = hist.Bin(\"sieie\",\"photon sigma I eta I eta\", 40, 0, 0.05)\n",
    "        photon_r9_axis = hist.Bin(\"r9\",\"photon R9\", 40, -0.5, 1.5)\n",
    "        photon_hoe_axis = hist.Bin(\"hoe\",\"photon H over E\", 40, -0.5, 1)\n",
    "        \n",
    "        jet_count_axis = hist.Bin(\"count\",\"Jet number\",5,0,5)\n",
    "        jet_pt_axis = hist.Bin(\"pt\",\"jet $p_T$ [GeV]\", 40, 0, 400)\n",
    "        jet_eta_axis = hist.Bin(\"eta\",\"jet $\\eta$\", 50, -2.5, 2.5)\n",
    "        jet_phi_axis = hist.Bin(\"phi\",\"jet $\\phi$\", 64, -3.2, 3.2)\n",
    "        jet_mass_axis = hist.Bin(\"mass\",\"jet mass\", 40, 0, 10)\n",
    "        \n",
    "        muon_pt_axis = hist.Bin(\"pt\",\"muon $p_T$ [GeV]\", 40, 0, 400)\n",
    "        muon_eta_axis = hist.Bin(\"eta\",\"muon $\\eta$\", 50, -2.5, 2.5)\n",
    "        muon_phi_axis = hist.Bin(\"phi\",\"muon $\\phi$\", 64, -3.2, 3.2)\n",
    "        muon_mass_axis = hist.Bin(\"mass\",\"muon mass [GeV]\", 40, 0, 10)\n",
    "        muon_reliso_all_axis = hist.Bin(\"reliso\",\"muon_pfRelIso03_all\",40, -0.5, 6)\n",
    "        muon_reliso_chg_axis = hist.Bin(\"reliso\",\"muon_pfRelIso03_chg\",40, -0.5, 6)\n",
    "        \n",
    "        deltar_axis = hist.Bin(\"deltar\",\"$\\Delta R$\", 50, -0.5, 4)\n",
    "        \n",
    "        \n",
    "        # Accumulator object: dictionary storing histograms & counters to be filled\n",
    "        self._accumulator = processor.dict_accumulator({\n",
    "            \n",
    "            ## column accumulators: a list for each variable to be trained on,\n",
    "            ## filled when an event passes our selection.\n",
    "            'photon_pt': processor.column_accumulator(np.ndarray(shape=(1,1))),\n",
    "            'photon_eta': processor.column_accumulator(np.ndarray(shape=(1,1))),\n",
    "            'photon_phi': processor.column_accumulator(np.ndarray(shape=(1,1))),\n",
    "            'photon_pfRelIso03_all': processor.column_accumulator(np.ndarray(shape=(1,1))),\n",
    "            'photon_pfRelIso03_chg': processor.column_accumulator(np.ndarray(shape=(1,1))),\n",
    "            'photon_sieie': processor.column_accumulator(np.ndarray(shape=(1,1))),\n",
    "            'photon_r9': processor.column_accumulator(np.ndarray(shape=(1,1))),\n",
    "            'photon_hoe': processor.column_accumulator(np.ndarray(shape=(1,1))),\n",
    "            \n",
    "            'jet_count': processor.column_accumulator(np.ndarray(shape=(1,1))),\n",
    "            'jet_pt': processor.column_accumulator(np.ndarray(shape=(1,1))),\n",
    "            'jet_eta': processor.column_accumulator(np.ndarray(shape=(1,1))),\n",
    "            'jet_phi': processor.column_accumulator(np.ndarray(shape=(1,1))),\n",
    "            'jet_mass': processor.column_accumulator(np.ndarray(shape=(1,1))),\n",
    "            \n",
    "            'muon_pt': processor.column_accumulator(np.ndarray(shape=(1,1))),\n",
    "            'muon_eta': processor.column_accumulator(np.ndarray(shape=(1,1))),\n",
    "            'muon_phi': processor.column_accumulator(np.ndarray(shape=(1,1))),\n",
    "            'muon_mass': processor.column_accumulator(np.ndarray(shape=(1,1))),\n",
    "            'muon_pfRelIso03_all': processor.column_accumulator(np.ndarray(shape=(1,1))),\n",
    "            'muon_pfRelIso03_chg': processor.column_accumulator(np.ndarray(shape=(1,1))),\n",
    "            \n",
    "            'deltaR_photon_lepton': processor.column_accumulator(np.ndarray(shape=(1,1))),\n",
    "            'deltaR_photon_jet': processor.column_accumulator(np.ndarray(shape=(1,1))),\n",
    "            \n",
    "            'label': processor.column_accumulator(np.ndarray(shape=(1,1))),\n",
    "            # delta R between photon & lepton, photon & jet\n",
    "            \n",
    "            ## histograms for features\n",
    "            'photon_pt_hist': hist.Hist(\"Counts\", dataset_axis, photon_pt_axis),\n",
    "            'photon_eta_hist': hist.Hist(\"Counts\", dataset_axis, photon_eta_axis),\n",
    "            'photon_phi_hist': hist.Hist(\"Counts\", dataset_axis, photon_phi_axis),\n",
    "            'photon_reliso_all_hist': hist.Hist(\"Counts\", dataset_axis, photon_reliso_all_axis),\n",
    "            'photon_reliso_chg_hist': hist.Hist(\"Counts\", dataset_axis, photon_reliso_chg_axis),\n",
    "            'photon_sieie_hist': hist.Hist(\"Counts\", dataset_axis, photon_sieie_axis),\n",
    "            'photon_r9_hist': hist.Hist(\"Counts\", dataset_axis, photon_r9_axis),\n",
    "            'photon_hoe_hist': hist.Hist(\"Counts\", dataset_axis, photon_hoe_axis),\n",
    "            \n",
    "            'jet_count_hist': hist.Hist(\"Counts\", dataset_axis, jet_count_axis),\n",
    "            'jet_pt_hist': hist.Hist(\"Counts\", dataset_axis, jet_pt_axis),\n",
    "            'jet_eta_hist': hist.Hist(\"Counts\", dataset_axis, jet_eta_axis),\n",
    "            'jet_phi_hist': hist.Hist(\"Counts\", dataset_axis, jet_phi_axis),\n",
    "            'jet_mass_hist': hist.Hist(\"Counts\", dataset_axis, jet_mass_axis),\n",
    "            \n",
    "            'muon_pt_hist': hist.Hist(\"Counts\", dataset_axis, muon_pt_axis),\n",
    "            'muon_eta_hist': hist.Hist(\"Counts\", dataset_axis, muon_eta_axis),\n",
    "            'muon_phi_hist': hist.Hist(\"Counts\", dataset_axis, muon_phi_axis),\n",
    "            'muon_mass_hist': hist.Hist(\"Counts\", dataset_axis, muon_mass_axis),\n",
    "            'muon_reliso_all_hist': hist.Hist(\"Counts\", dataset_axis, muon_reliso_all_axis),\n",
    "            'muon_reliso_chg_hist': hist.Hist(\"Counts\", dataset_axis, muon_reliso_chg_axis),\n",
    "            \n",
    "            'deltaR_photon_lepton_hist': hist.Hist(\"Counts\", dataset_axis, deltar_axis),\n",
    "            'deltaR_photon_jet_hist': hist.Hist(\"Counts\", dataset_axis, deltar_axis),\n",
    "        }\n",
    "        )\n",
    "\n",
    "    @property\n",
    "    def accumulator(self):\n",
    "        return self._accumulator\n",
    "\n",
    "    \n",
    "\n",
    "    # The process method is where the heart of the analysis is.  \n",
    "    # This is where all of the selections are done and the histograms get filled \n",
    "    #  (things you did in notebook cells before will be done here instead)\n",
    "    def process(self, events):\n",
    "        ### The process function is where most of the work happens. As we'll see below, this is\n",
    "        ### where the main analysis work happens (object cuts, event selections, filling histograms). \n",
    "        \n",
    "        ## This gets us the accumulator dictionary we defined in init\n",
    "        output = self.accumulator.identity()\n",
    "\n",
    "        ## To access variables from the ntuples, use the \"events\" object\n",
    "        ## The dataset name is part of events.metadata\n",
    "        dataset = events.metadata['dataset']\n",
    "\n",
    "        ## The coffea NanoEventSchema packages all photon variables (columns) into the events.Muon object\n",
    "        ## Each variable can be accessed using photons.key_name\n",
    "        \n",
    "        ######## Select good photons ########\n",
    "        photons = events.Photon\n",
    "        photonSelect= ((photons.pt>20) & \n",
    "                        (abs(photons.eta) < 1.4442) &\n",
    "                        (photons.isScEtaEE | photons.isScEtaEB) &\n",
    "                        (photons.electronVeto) & \n",
    "                        np.invert(photons.pixelSeed) \n",
    "                       )\n",
    "        tightPhotons = photons[photonSelect]\n",
    "        \n",
    "        ## other objects (for event selection):\n",
    "        # muons\n",
    "        muons=events.Muon\n",
    "        muonSelectTight = ((muons.pt>30) &\n",
    "                           (abs(muons.eta)<2.4) &\n",
    "                           (muons.tightId) &\n",
    "                           (muons.pfRelIso04_all < 0.15)\n",
    "                          )\n",
    "        tightMuons = muons[muonSelectTight]\n",
    "        # jets & b-tagged jets\n",
    "        jets=events.Jet\n",
    "        jetSelectTight = ((jets.pt>30) &\n",
    "                          (abs(jets.eta)<2.4) &\n",
    "                          (jets.isTight)\n",
    "                         )\n",
    "        btaggedJetSelect = (jetSelectTight &\n",
    "                           (jets.btagDeepB>0.6321)\n",
    "                          )\n",
    "        tightJets = jets[jetSelectTight]\n",
    "        tightBJets = jets[btaggedJetSelect]\n",
    "        # electrons\n",
    "        electrons=events.Electron\n",
    "        electronSelectTight = ((electrons.pt> 35) &\n",
    "                           (abs(electrons.eta)<2.1) &\n",
    "                            electrons.cutBased>=4   \n",
    "                         )\n",
    "        tightEle = electrons[electronSelectTight]\n",
    "        \n",
    "        \n",
    "        ######## Select good events #########\n",
    "        trigger = events.HLT.IsoMu24 | events.HLT.IsoTkMu24\n",
    "        \n",
    "        # Select events passing the trigger, with exactly one tight muon, ≥4 jets, ≥ 1 b-tagged jets, and 0 electrons. \n",
    "        eventSelection = (trigger &\n",
    "                          (ak.num(tightMuons)==1) &\n",
    "                          (ak.num(tightJets)>=4) & \n",
    "                          (ak.num(tightBJets)>=1) &\n",
    "                          (ak.num(tightEle)==0) &\n",
    "                          (ak.num(tightPhotons)==1))\n",
    "\n",
    "        # Fill the muon_pt histogram using the tightMuons in events that pass our selection \n",
    "        # Note that ak.flatten() is required when filling a histogram to remove the jaggedness\n",
    "        output['photon_pt_hist'].fill(dataset=dataset,\n",
    "                                      pt=ak.flatten(tightPhotons[eventSelection,:1].pt))\n",
    "        output['photon_eta_hist'].fill(dataset=dataset,\n",
    "                                      eta=ak.flatten(tightPhotons[eventSelection,:1].eta))\n",
    "        output['photon_phi_hist'].fill(dataset=dataset,\n",
    "                                      phi=ak.flatten(tightPhotons[eventSelection,:1].phi))\n",
    "        output['photon_reliso_all_hist'].fill(dataset=dataset,\n",
    "                                         reliso=ak.flatten(tightPhotons[eventSelection,:1].pfRelIso03_all))\n",
    "        output['photon_reliso_chg_hist'].fill(dataset=dataset,\n",
    "                                         reliso=ak.flatten(tightPhotons[eventSelection,:1].pfRelIso03_chg))\n",
    "        output['photon_sieie_hist'].fill(dataset=dataset,\n",
    "                                      sieie=ak.flatten(tightPhotons[eventSelection,:1].sieie))\n",
    "        output['photon_r9_hist'].fill(dataset=dataset,\n",
    "                                      r9=ak.flatten(tightPhotons[eventSelection,:1].r9))\n",
    "        output['photon_hoe_hist'].fill(dataset=dataset,\n",
    "                                      hoe=ak.flatten(tightPhotons[eventSelection,:1].hoe))\n",
    "        \n",
    "        output['jet_count_hist'].fill(dataset=dataset,\n",
    "                                      count=(ak.num(tightJets)))\n",
    "        output['jet_pt_hist'].fill(dataset=dataset,\n",
    "                                   pt=ak.flatten(tightJets[eventSelection,:1].pt))\n",
    "        output['jet_eta_hist'].fill(dataset=dataset,\n",
    "                                    eta=ak.flatten(tightJets[eventSelection,:1].eta))\n",
    "        output['jet_phi_hist'].fill(dataset=dataset,\n",
    "                                      phi=ak.flatten(tightJets[eventSelection,:1].phi))\n",
    "        output['jet_mass_hist'].fill(dataset=dataset,\n",
    "                                     mass=ak.flatten(tightJets[eventSelection,:1].mass))\n",
    "        \n",
    "        output['muon_pt_hist'].fill(dataset=dataset,\n",
    "                                   pt=ak.flatten(tightMuons[eventSelection,:1].pt))\n",
    "        output['muon_eta_hist'].fill(dataset=dataset,\n",
    "                                    eta=ak.flatten(tightMuons[eventSelection,:1].eta))\n",
    "        output['muon_phi_hist'].fill(dataset=dataset,\n",
    "                                      phi=ak.flatten(tightMuons[eventSelection,:1].phi))\n",
    "        output['muon_mass_hist'].fill(dataset=dataset,\n",
    "                                     mass=ak.flatten(tightMuons[eventSelection,:1].mass))\n",
    "        output['muon_reliso_all_hist'].fill(dataset=dataset,\n",
    "                                           reliso=ak.flatten(tightMuons[eventSelection,:1].pfRelIso03_all))\n",
    "        output['muon_reliso_chg_hist'].fill(dataset=dataset,\n",
    "                                           reliso=ak.flatten(tightMuons[eventSelection,:1].pfRelIso03_chg))\n",
    "        \n",
    "        output['deltaR_photon_lepton_hist'].fill(dataset=dataset,\n",
    "                                           deltar=ak.flatten(tightPhotons[eventSelection,:1].delta_r(tightMuons[eventSelection,:1])))\n",
    "        output['deltaR_photon_jet_hist'].fill(dataset=dataset,\n",
    "                                           deltar=ak.flatten(tightPhotons[eventSelection,:1].delta_r(tightJets[eventSelection,:1])))\n",
    "        \n",
    "        \n",
    "        # Leading photon\n",
    "        pt=processor.column_accumulator(ak.to_numpy(ak.pad_none(tightPhotons.pt[eventSelection,:1],1,clip=True)))\n",
    "        output['photon_pt']+=pt\n",
    "        \n",
    "        eta=processor.column_accumulator(ak.to_numpy(ak.pad_none(tightPhotons.eta[eventSelection,:1],1,clip=True)))\n",
    "        output['photon_eta']+=eta\n",
    "        \n",
    "        phi=processor.column_accumulator(ak.to_numpy(ak.pad_none(tightPhotons.phi[eventSelection,:1],1,clip=True)))\n",
    "        output['photon_phi']+=phi\n",
    "        \n",
    "        reliso_all=processor.column_accumulator(ak.to_numpy(ak.pad_none(tightPhotons.pfRelIso03_all[eventSelection,:1],1,clip=True)))\n",
    "        output['photon_pfRelIso03_all']+=reliso_all\n",
    "        \n",
    "        reliso_chg=processor.column_accumulator(ak.to_numpy(ak.pad_none(tightPhotons.pfRelIso03_chg[eventSelection,:1],1,clip=True)))\n",
    "        output['photon_pfRelIso03_chg']+=reliso_chg\n",
    "        \n",
    "        sieie=processor.column_accumulator(ak.to_numpy(ak.pad_none(tightPhotons.sieie[eventSelection,:1],1,clip=True)))\n",
    "        output['photon_sieie']+=sieie\n",
    "        \n",
    "        r9=processor.column_accumulator(ak.to_numpy(ak.pad_none(tightPhotons.r9[eventSelection,:1],1,clip=True)))\n",
    "        output['photon_r9']+=r9\n",
    "        \n",
    "        hoe=processor.column_accumulator(ak.to_numpy(ak.pad_none(tightPhotons.hoe[eventSelection,:1],1,clip=True)))\n",
    "        output['photon_hoe']+=hoe\n",
    "        \n",
    "        ###\n",
    "        #count=processor.column_accumulator(ak.to_numpy(ak.num(tightJets[eventSelection,:1])))\n",
    "        #output['jet_count']+=count\n",
    "        \n",
    "        pt=processor.column_accumulator(ak.to_numpy(ak.pad_none(tightJets.pt[eventSelection,:1],1,clip=True)))\n",
    "        output['jet_pt']+=pt\n",
    "        \n",
    "        eta=processor.column_accumulator(ak.to_numpy(ak.pad_none(tightJets.eta[eventSelection,:1],1,clip=True)))\n",
    "        output['jet_eta']+=eta\n",
    "        \n",
    "        phi=processor.column_accumulator(ak.to_numpy(ak.pad_none(tightJets.phi[eventSelection,:1],1,clip=True)))\n",
    "        output['jet_phi']+=phi\n",
    "        \n",
    "        mass=processor.column_accumulator(ak.to_numpy(ak.pad_none(tightJets.mass[eventSelection,:1],1,clip=True)))\n",
    "        output['jet_mass']+=mass\n",
    "        \n",
    "        ###\n",
    "        pt=processor.column_accumulator(ak.to_numpy(ak.pad_none(tightMuons.pt[eventSelection,:1],1,clip=True)))\n",
    "        output['muon_pt']+=pt\n",
    "        \n",
    "        eta=processor.column_accumulator(ak.to_numpy(ak.pad_none(tightMuons.eta[eventSelection,:1],1,clip=True)))\n",
    "        output['muon_eta']+=eta\n",
    "        \n",
    "        phi=processor.column_accumulator(ak.to_numpy(ak.pad_none(tightMuons.phi[eventSelection,:1],1,clip=True)))\n",
    "        output['muon_phi']+=phi\n",
    "        \n",
    "        mass=processor.column_accumulator(ak.to_numpy(ak.pad_none(tightMuons.mass[eventSelection,:1],1,clip=True)))\n",
    "        output['muon_mass']+=mass\n",
    "        \n",
    "        reliso_all=processor.column_accumulator(ak.to_numpy(ak.pad_none(tightMuons.pfRelIso03_all[eventSelection,:1],1,clip=True)))\n",
    "        output['muon_pfRelIso03_all']+=reliso_all\n",
    "        \n",
    "        reliso_chg=processor.column_accumulator(ak.to_numpy(ak.pad_none(tightMuons.pfRelIso03_chg[eventSelection,:1],1,clip=True)))\n",
    "        output['muon_pfRelIso03_chg']+=reliso_chg\n",
    "        \n",
    "        ###\n",
    "        deltar=processor.column_accumulator(ak.to_numpy(ak.pad_none(tightPhotons[eventSelection,:1].delta_r(tightMuons[eventSelection,:1]),1,clip=True)))\n",
    "        output['deltaR_photon_lepton']+=deltar\n",
    "        \n",
    "        deltar=processor.column_accumulator(ak.to_numpy(ak.pad_none(tightPhotons[eventSelection,:1].delta_r(tightJets[eventSelection,:1]),1,clip=True)))\n",
    "        output['deltaR_photon_jet']+=deltar\n",
    "        \n",
    "        \n",
    "        if dataset=='TTGamma':\n",
    "            output['label'] += processor.column_accumulator(np.ones_like(ak.to_numpy(ak.pad_none(tightPhotons.pt[eventSelection,:1],1,clip=True))))\n",
    "        elif dataset=='TTbar':\n",
    "            output['label'] += processor.column_accumulator(np.zeros_like(ak.to_numpy(ak.pad_none(tightPhotons.pt[eventSelection,:1],1,clip=True))))\n",
    "        else:\n",
    "            output['label'] += processor.column_accumulator(2*np.ones_like(ak.to_numpy(ak.pad_none(tightPhotons.pt[eventSelection,:1],1,clip=True))))\n",
    "        \n",
    "        \n",
    "        return output\n",
    "\n",
    "    def postprocess(self, accumulator):\n",
    "        return accumulator"
   ]
  },
  {
   "cell_type": "code",
   "execution_count": 4,
   "metadata": {},
   "outputs": [],
   "source": [
    "#Define files to run over\n",
    "skimDir=\"/udrive/staff/dnoonan/Skims\"\n",
    "\n",
    "fileset = {\"TTGamma\":[f\"{skimDir}/TTGamma_SingleLept_2016_skim.root\"],\n",
    "           \"TTbar\":[f\"{skimDir}/TTbarPowheg_Semilept_2016_skim_1of10.root\",\n",
    "                    f\"{skimDir}/TTbarPowheg_Semilept_2016_skim_2of10.root\"],\n",
    "           #\"WGamma\":[f\"{skimDir}/WGamma_2016_skim.root\"],\n",
    "           #\"Z+jets\":[f'{skimDir}/DYjetsM50_ext2_2016_skim_1of10.root'],\n",
    "           #\"W+3jets\":[f\"{skimDir}/W3jets_2016_skim.root\"],\n",
    "           #\"W+4jets\":[f\"{skimDir}/W4jets_2016_skim.root\"],\n",
    "          }\n",
    "\n",
    "#filesetData = {\"DataMu\":[f\"{skimDir}/Data_SingleMu_b_2016_skim_1of10.root\"],\n",
    "#              }"
   ]
  },
  {
   "cell_type": "code",
   "execution_count": 5,
   "metadata": {},
   "outputs": [
    {
     "data": {
      "application/vnd.jupyter.widget-view+json": {
       "model_id": "4bdf1ae682e54b49a8d912d0fc05c9a9",
       "version_major": 2,
       "version_minor": 0
      },
      "text/plain": [
       "Preprocessing:   0%|          | 0/3 [00:00<?, ?file/s]"
      ]
     },
     "metadata": {},
     "output_type": "display_data"
    },
    {
     "data": {
      "application/vnd.jupyter.widget-view+json": {
       "model_id": "adfbfecb25c34b4084eae4d26e87ea4c",
       "version_major": 2,
       "version_minor": 0
      },
      "text/plain": [
       "Processing:   0%|          | 0/10 [00:00<?, ?chunk/s]"
      ]
     },
     "metadata": {},
     "output_type": "display_data"
    }
   ],
   "source": [
    "np.warnings.filterwarnings('ignore')\n",
    "\n",
    "#the NanoAODSchema needs to be adjusted, to remove cross references to FSRPhotons\n",
    "class SkimmedSchema(NanoAODSchema):\n",
    "    def __init__(self, base_form):\n",
    "        base_form[\"contents\"].pop(\"Muon_fsrPhotonIdx\", None)\n",
    "        super().__init__(base_form)\n",
    "\n",
    "#Run Coffea code using uproot\n",
    "outputMC = processor.run_uproot_job(\n",
    "    fileset,  #dictionary of datasets to run on, defined earlier in this cell\n",
    "    \"Events\", #Name of the TTree you will be opening\n",
    "    PhotonSelector(),  #Coffea processor you defined\n",
    "    processor.futures_executor,\n",
    "    executor_args={\"schema\": SkimmedSchema,'workers': 4},  ## workers = 2, parallelize jobs, running 2 at once\n",
    "    chunksize=1000000, #in each chunk, use 1 million events\n",
    "    #maxchunks=3, #limit to using only 3 chunks for each dataset (useful for testing purposes)\n",
    ")"
   ]
  },
  {
   "cell_type": "code",
   "execution_count": 6,
   "metadata": {},
   "outputs": [
    {
     "data": {
      "text/plain": [
       "'\\noutputData = processor.run_uproot_job(\\n    filesetData,\\n    \"Events\",\\n    PhotonSelector(),\\n    processor.futures_executor,\\n    executor_args={\"schema\": SkimmedSchema,\\'workers\\': 4},\\n    chunksize=1000000,\\n)\\n'"
      ]
     },
     "execution_count": 6,
     "metadata": {},
     "output_type": "execute_result"
    }
   ],
   "source": [
    "'''\n",
    "outputData = processor.run_uproot_job(\n",
    "    filesetData,\n",
    "    \"Events\",\n",
    "    PhotonSelector(),\n",
    "    processor.futures_executor,\n",
    "    executor_args={\"schema\": SkimmedSchema,'workers': 4},\n",
    "    chunksize=1000000,\n",
    ")\n",
    "'''"
   ]
  },
  {
   "cell_type": "code",
   "execution_count": 7,
   "metadata": {},
   "outputs": [
    {
     "data": {
      "text/plain": [
       "'\\nnEvents = {}\\nfor d in fileset:\\n    if not d in nEvents:\\n        nEvents[d] = 0\\n    for fName in fileset[d]:\\n        with uproot.open(fName)[\\'hEvents\\'] as hEvents:\\n            nEvents[d] += hEvents.values()[0] + hEvents.values()[2]\\ncx = {\\'TTGamma\\':7.509,\\n     \\'TTbar\\': 380.095,\\n     \\'WGamma\\':489,\\n     \\'Z+jets\\':6077.22,\\n     \\'W+3jets\\':1165.8108,\\n     \\'W+4jets\\':592.9176}\\nlumi_weight = {}\\nfor keyName in fileset:\\n    lumi_weight[keyName] = (cx[keyName]*450.)/nEvents[keyName]\\n    \\nfor key, obj in outputMC.items():\\n    if isinstance(obj, hist.Hist):\\n        obj.scale(lumi_weight, axis=\"dataset\")\\n'"
      ]
     },
     "execution_count": 7,
     "metadata": {},
     "output_type": "execute_result"
    }
   ],
   "source": [
    "'''\n",
    "nEvents = {}\n",
    "for d in fileset:\n",
    "    if not d in nEvents:\n",
    "        nEvents[d] = 0\n",
    "    for fName in fileset[d]:\n",
    "        with uproot.open(fName)['hEvents'] as hEvents:\n",
    "            nEvents[d] += hEvents.values()[0] + hEvents.values()[2]\n",
    "cx = {'TTGamma':7.509,\n",
    "     'TTbar': 380.095,\n",
    "     'WGamma':489,\n",
    "     'Z+jets':6077.22,\n",
    "     'W+3jets':1165.8108,\n",
    "     'W+4jets':592.9176}\n",
    "lumi_weight = {}\n",
    "for keyName in fileset:\n",
    "    lumi_weight[keyName] = (cx[keyName]*450.)/nEvents[keyName]\n",
    "    \n",
    "for key, obj in outputMC.items():\n",
    "    if isinstance(obj, hist.Hist):\n",
    "        obj.scale(lumi_weight, axis=\"dataset\")\n",
    "'''"
   ]
  },
  {
   "cell_type": "code",
   "execution_count": 8,
   "metadata": {},
   "outputs": [
    {
     "data": {
      "text/plain": [
       "\"\\ndata_err_opts = {\\n    'linestyle':'none',\\n    'marker': '.',\\n    'markersize': 10.,\\n    'color':'k',\\n    'elinewidth': 1,\\n}\\n\""
      ]
     },
     "execution_count": 8,
     "metadata": {},
     "output_type": "execute_result"
    }
   ],
   "source": [
    "'''\n",
    "data_err_opts = {\n",
    "    'linestyle':'none',\n",
    "    'marker': '.',\n",
    "    'markersize': 10.,\n",
    "    'color':'k',\n",
    "    'elinewidth': 1,\n",
    "}\n",
    "'''"
   ]
  },
  {
   "cell_type": "code",
   "execution_count": 9,
   "metadata": {},
   "outputs": [
    {
     "data": {
      "text/plain": [
       "<AxesSubplot:xlabel='photon $p_{T}$ [GeV]', ylabel='Counts'>"
      ]
     },
     "execution_count": 9,
     "metadata": {},
     "output_type": "execute_result"
    },
    {
     "data": {
      "image/png": "[encoded data removed]",
      "text/plain": [
       "<Figure size 432x288 with 1 Axes>"
      ]
     },
     "metadata": {
      "needs_background": "light"
     },
     "output_type": "display_data"
    }
   ],
   "source": [
    "# Histograms ###\n",
    "\n",
    "hist.plot1d(outputMC['photon_pt_hist'],overlay='dataset',order=['TTbar','TTGamma'],stack=False,density=True)"
   ]
  },
  {
   "cell_type": "code",
   "execution_count": 10,
   "metadata": {},
   "outputs": [
    {
     "data": {
      "text/plain": [
       "<AxesSubplot:xlabel='photon $\\\\eta$', ylabel='Counts'>"
      ]
     },
     "execution_count": 10,
     "metadata": {},
     "output_type": "execute_result"
    },
    {
     "data": {
      "image/png": "[encoded data removed]",
      "text/plain": [
       "<Figure size 432x288 with 1 Axes>"
      ]
     },
     "metadata": {
      "needs_background": "light"
     },
     "output_type": "display_data"
    }
   ],
   "source": [
    "hist.plot1d(outputMC['photon_eta_hist'],overlay='dataset',order=['TTbar','TTGamma'],stack=False,density=True)"
   ]
  },
  {
   "cell_type": "code",
   "execution_count": 11,
   "metadata": {},
   "outputs": [
    {
     "data": {
      "text/plain": [
       "<AxesSubplot:xlabel='photon $\\\\phi$', ylabel='Counts'>"
      ]
     },
     "execution_count": 11,
     "metadata": {},
     "output_type": "execute_result"
    },
    {
     "data": {
      "image/png": "[encoded data removed]",
      "text/plain": [
       "<Figure size 432x288 with 1 Axes>"
      ]
     },
     "metadata": {
      "needs_background": "light"
     },
     "output_type": "display_data"
    }
   ],
   "source": [
    "hist.plot1d(outputMC['photon_phi_hist'],overlay='dataset',order=['TTbar','TTGamma'],stack=False,density=True)"
   ]
  },
  {
   "cell_type": "code",
   "execution_count": 12,
   "metadata": {},
   "outputs": [
    {
     "data": {
      "text/plain": [
       "<AxesSubplot:xlabel='photon pfRelIso03_all', ylabel='Counts'>"
      ]
     },
     "execution_count": 12,
     "metadata": {},
     "output_type": "execute_result"
    },
    {
     "data": {
      "image/png": "[encoded data removed]",
      "text/plain": [
       "<Figure size 432x288 with 1 Axes>"
      ]
     },
     "metadata": {
      "needs_background": "light"
     },
     "output_type": "display_data"
    }
   ],
   "source": [
    "hist.plot1d(outputMC['photon_reliso_all_hist'],overlay='dataset',order=['TTbar','TTGamma'],stack=False,density=True)"
   ]
  },
  {
   "cell_type": "code",
   "execution_count": 13,
   "metadata": {},
   "outputs": [
    {
     "data": {
      "text/plain": [
       "<AxesSubplot:xlabel='photon pfRelIso03_chg', ylabel='Counts'>"
      ]
     },
     "execution_count": 13,
     "metadata": {},
     "output_type": "execute_result"
    },
    {
     "data": {
      "image/png": "[encoded data removed]",
      "text/plain": [
       "<Figure size 432x288 with 1 Axes>"
      ]
     },
     "metadata": {
      "needs_background": "light"
     },
     "output_type": "display_data"
    }
   ],
   "source": [
    "hist.plot1d(outputMC['photon_reliso_chg_hist'],overlay='dataset',order=['TTbar','TTGamma'],stack=False,density=True)"
   ]
  },
  {
   "cell_type": "code",
   "execution_count": 14,
   "metadata": {},
   "outputs": [
    {
     "data": {
      "text/plain": [
       "<AxesSubplot:xlabel='photon sigma I eta I eta', ylabel='Counts'>"
      ]
     },
     "execution_count": 14,
     "metadata": {},
     "output_type": "execute_result"
    },
    {
     "data": {
      "image/png": "[encoded data removed]",
      "text/plain": [
       "<Figure size 432x288 with 1 Axes>"
      ]
     },
     "metadata": {
      "needs_background": "light"
     },
     "output_type": "display_data"
    }
   ],
   "source": [
    "hist.plot1d(outputMC['photon_sieie_hist'],overlay='dataset',order=['TTbar','TTGamma'],stack=False,density=True)"
   ]
  },
  {
   "cell_type": "code",
   "execution_count": 15,
   "metadata": {},
   "outputs": [
    {
     "data": {
      "text/plain": [
       "<AxesSubplot:xlabel='photon R9', ylabel='Counts'>"
      ]
     },
     "execution_count": 15,
     "metadata": {},
     "output_type": "execute_result"
    },
    {
     "data": {
      "image/png": "[encoded data removed]",
      "text/plain": [
       "<Figure size 432x288 with 1 Axes>"
      ]
     },
     "metadata": {
      "needs_background": "light"
     },
     "output_type": "display_data"
    }
   ],
   "source": [
    "hist.plot1d(outputMC['photon_r9_hist'],overlay='dataset',order=['TTbar','TTGamma'],stack=False,density=True)"
   ]
  },
  {
   "cell_type": "code",
   "execution_count": 16,
   "metadata": {},
   "outputs": [
    {
     "data": {
      "text/plain": [
       "<AxesSubplot:xlabel='photon H over E', ylabel='Counts'>"
      ]
     },
     "execution_count": 16,
     "metadata": {},
     "output_type": "execute_result"
    },
    {
     "data": {
      "image/png": "[encoded data removed]",
      "text/plain": [
       "<Figure size 432x288 with 1 Axes>"
      ]
     },
     "metadata": {
      "needs_background": "light"
     },
     "output_type": "display_data"
    }
   ],
   "source": [
    "hist.plot1d(outputMC['photon_hoe_hist'],overlay='dataset',order=['TTbar','TTGamma'],stack=False,density=True)"
   ]
  },
  {
   "cell_type": "code",
   "execution_count": 17,
   "metadata": {},
   "outputs": [
    {
     "data": {
      "text/plain": [
       "<AxesSubplot:xlabel='$\\\\Delta R$', ylabel='Counts'>"
      ]
     },
     "execution_count": 17,
     "metadata": {},
     "output_type": "execute_result"
    },
    {
     "data": {
      "image/png": "[encoded data removed]",
      "text/plain": [
       "<Figure size 432x288 with 1 Axes>"
      ]
     },
     "metadata": {
      "needs_background": "light"
     },
     "output_type": "display_data"
    }
   ],
   "source": [
    "hist.plot1d(outputMC['deltaR_photon_lepton_hist'],overlay='dataset',order=['TTbar','TTGamma'],stack=False,density=True)"
   ]
  },
  {
   "cell_type": "code",
   "execution_count": 18,
   "metadata": {},
   "outputs": [
    {
     "data": {
      "text/plain": [
       "<AxesSubplot:xlabel='$\\\\Delta R$', ylabel='Counts'>"
      ]
     },
     "execution_count": 18,
     "metadata": {},
     "output_type": "execute_result"
    },
    {
     "data": {
      "image/png": "[encoded data removed]",
      "text/plain": [
       "<Figure size 432x288 with 1 Axes>"
      ]
     },
     "metadata": {
      "needs_background": "light"
     },
     "output_type": "display_data"
    }
   ],
   "source": [
    "hist.plot1d(outputMC['deltaR_photon_jet_hist'],overlay='dataset',order=['TTbar','TTGamma'],stack=False,density=True)"
   ]
  },
  {
   "cell_type": "markdown",
   "metadata": {},
   "source": [
    "## Preprocessing & training"
   ]
  },
  {
   "cell_type": "code",
   "execution_count": 19,
   "metadata": {},
   "outputs": [
    {
     "data": {
      "text/plain": [
       "(855579,)"
      ]
     },
     "execution_count": 19,
     "metadata": {},
     "output_type": "execute_result"
    }
   ],
   "source": [
    "np.array(outputMC['deltaR_photon_lepton'].value)[:,0].shape"
   ]
  },
  {
   "cell_type": "code",
   "execution_count": 20,
   "metadata": {},
   "outputs": [
    {
     "data": {
      "text/html": [
       "<div>\n",
       "<style scoped>\n",
       "    .dataframe tbody tr th:only-of-type {\n",
       "        vertical-align: middle;\n",
       "    }\n",
       "\n",
       "    .dataframe tbody tr th {\n",
       "        vertical-align: top;\n",
       "    }\n",
       "\n",
       "    .dataframe thead th {\n",
       "        text-align: right;\n",
       "    }\n",
       "</style>\n",
       "<table border=\"1\" class=\"dataframe\">\n",
       "  <thead>\n",
       "    <tr style=\"text-align: right;\">\n",
       "      <th></th>\n",
       "      <th>photon_pt</th>\n",
       "      <th>photon_eta</th>\n",
       "      <th>photon_phi</th>\n",
       "      <th>photon_hoe</th>\n",
       "      <th>photon_r9</th>\n",
       "      <th>photon_sieie</th>\n",
       "      <th>photon_pfRelIso03_all</th>\n",
       "      <th>photon_pfRelIso03_chg</th>\n",
       "      <th>jet_pt</th>\n",
       "      <th>jet_eta</th>\n",
       "      <th>...</th>\n",
       "      <th>jet_mass</th>\n",
       "      <th>muon_pt</th>\n",
       "      <th>muon_eta</th>\n",
       "      <th>muon_phi</th>\n",
       "      <th>muon_mass</th>\n",
       "      <th>muon_pfRelIso03_all</th>\n",
       "      <th>muon_pfRelIso03_chg</th>\n",
       "      <th>deltaR_photon_lepton</th>\n",
       "      <th>deltaR_photon_jet</th>\n",
       "      <th>target</th>\n",
       "    </tr>\n",
       "  </thead>\n",
       "  <tbody>\n",
       "    <tr>\n",
       "      <th>count</th>\n",
       "      <td>855579.000000</td>\n",
       "      <td>855579.000000</td>\n",
       "      <td>855579.000000</td>\n",
       "      <td>855579.000000</td>\n",
       "      <td>855579.000000</td>\n",
       "      <td>855579.000000</td>\n",
       "      <td>855579.000000</td>\n",
       "      <td>855579.000000</td>\n",
       "      <td>855579.000000</td>\n",
       "      <td>855579.000000</td>\n",
       "      <td>...</td>\n",
       "      <td>855579.000000</td>\n",
       "      <td>855579.000000</td>\n",
       "      <td>855579.000000</td>\n",
       "      <td>855579.000000</td>\n",
       "      <td>855579.000000</td>\n",
       "      <td>855579.000000</td>\n",
       "      <td>855579.000000</td>\n",
       "      <td>855579.000000</td>\n",
       "      <td>855579.000000</td>\n",
       "      <td>855579.000000</td>\n",
       "    </tr>\n",
       "    <tr>\n",
       "      <th>mean</th>\n",
       "      <td>48.350057</td>\n",
       "      <td>0.003989</td>\n",
       "      <td>0.012482</td>\n",
       "      <td>0.174138</td>\n",
       "      <td>0.724939</td>\n",
       "      <td>0.012634</td>\n",
       "      <td>0.733765</td>\n",
       "      <td>0.455420</td>\n",
       "      <td>140.578637</td>\n",
       "      <td>0.004473</td>\n",
       "      <td>...</td>\n",
       "      <td>16.464279</td>\n",
       "      <td>70.038697</td>\n",
       "      <td>0.006301</td>\n",
       "      <td>-0.005696</td>\n",
       "      <td>0.105713</td>\n",
       "      <td>0.016173</td>\n",
       "      <td>0.008393</td>\n",
       "      <td>2.186535</td>\n",
       "      <td>1.629632</td>\n",
       "      <td>0.431477</td>\n",
       "    </tr>\n",
       "    <tr>\n",
       "      <th>std</th>\n",
       "      <td>40.563230</td>\n",
       "      <td>0.781453</td>\n",
       "      <td>1.815523</td>\n",
       "      <td>0.161405</td>\n",
       "      <td>0.239834</td>\n",
       "      <td>0.003758</td>\n",
       "      <td>0.820339</td>\n",
       "      <td>0.556702</td>\n",
       "      <td>75.768024</td>\n",
       "      <td>1.020286</td>\n",
       "      <td>...</td>\n",
       "      <td>10.263589</td>\n",
       "      <td>40.682925</td>\n",
       "      <td>1.052721</td>\n",
       "      <td>1.816676</td>\n",
       "      <td>0.000000</td>\n",
       "      <td>0.024052</td>\n",
       "      <td>0.015345</td>\n",
       "      <td>0.864183</td>\n",
       "      <td>1.264622</td>\n",
       "      <td>0.495283</td>\n",
       "    </tr>\n",
       "    <tr>\n",
       "      <th>min</th>\n",
       "      <td>20.000013</td>\n",
       "      <td>-1.444092</td>\n",
       "      <td>-3.141602</td>\n",
       "      <td>0.000000</td>\n",
       "      <td>0.100952</td>\n",
       "      <td>0.000196</td>\n",
       "      <td>0.000000</td>\n",
       "      <td>0.000000</td>\n",
       "      <td>34.531250</td>\n",
       "      <td>-2.399902</td>\n",
       "      <td>...</td>\n",
       "      <td>1.002930</td>\n",
       "      <td>30.000050</td>\n",
       "      <td>-2.399902</td>\n",
       "      <td>-3.141602</td>\n",
       "      <td>0.105713</td>\n",
       "      <td>0.000000</td>\n",
       "      <td>0.000000</td>\n",
       "      <td>0.000061</td>\n",
       "      <td>0.000000</td>\n",
       "      <td>0.000000</td>\n",
       "    </tr>\n",
       "    <tr>\n",
       "      <th>25%</th>\n",
       "      <td>25.436474</td>\n",
       "      <td>-0.636597</td>\n",
       "      <td>-1.558594</td>\n",
       "      <td>0.007080</td>\n",
       "      <td>0.548340</td>\n",
       "      <td>0.009323</td>\n",
       "      <td>0.139816</td>\n",
       "      <td>0.047417</td>\n",
       "      <td>92.937500</td>\n",
       "      <td>-0.756714</td>\n",
       "      <td>...</td>\n",
       "      <td>10.601562</td>\n",
       "      <td>42.410805</td>\n",
       "      <td>-0.767700</td>\n",
       "      <td>-1.581543</td>\n",
       "      <td>0.105713</td>\n",
       "      <td>0.000000</td>\n",
       "      <td>0.000000</td>\n",
       "      <td>1.495825</td>\n",
       "      <td>0.082460</td>\n",
       "      <td>0.000000</td>\n",
       "    </tr>\n",
       "    <tr>\n",
       "      <th>50%</th>\n",
       "      <td>34.645893</td>\n",
       "      <td>0.008839</td>\n",
       "      <td>0.013788</td>\n",
       "      <td>0.160645</td>\n",
       "      <td>0.752930</td>\n",
       "      <td>0.011787</td>\n",
       "      <td>0.520099</td>\n",
       "      <td>0.288517</td>\n",
       "      <td>121.062500</td>\n",
       "      <td>0.005845</td>\n",
       "      <td>...</td>\n",
       "      <td>14.171875</td>\n",
       "      <td>58.101337</td>\n",
       "      <td>0.005819</td>\n",
       "      <td>-0.011141</td>\n",
       "      <td>0.105713</td>\n",
       "      <td>0.006353</td>\n",
       "      <td>0.000000</td>\n",
       "      <td>2.317909</td>\n",
       "      <td>1.807442</td>\n",
       "      <td>0.000000</td>\n",
       "    </tr>\n",
       "    <tr>\n",
       "      <th>75%</th>\n",
       "      <td>54.804638</td>\n",
       "      <td>0.645386</td>\n",
       "      <td>1.587158</td>\n",
       "      <td>0.300781</td>\n",
       "      <td>0.932617</td>\n",
       "      <td>0.015381</td>\n",
       "      <td>1.047740</td>\n",
       "      <td>0.658474</td>\n",
       "      <td>163.875000</td>\n",
       "      <td>0.768127</td>\n",
       "      <td>...</td>\n",
       "      <td>19.281250</td>\n",
       "      <td>84.085567</td>\n",
       "      <td>0.780396</td>\n",
       "      <td>1.572021</td>\n",
       "      <td>0.105713</td>\n",
       "      <td>0.022676</td>\n",
       "      <td>0.011128</td>\n",
       "      <td>2.893058</td>\n",
       "      <td>2.794548</td>\n",
       "      <td>1.000000</td>\n",
       "    </tr>\n",
       "    <tr>\n",
       "      <th>max</th>\n",
       "      <td>1075.912109</td>\n",
       "      <td>1.444092</td>\n",
       "      <td>3.141602</td>\n",
       "      <td>2.867188</td>\n",
       "      <td>20.515625</td>\n",
       "      <td>0.030167</td>\n",
       "      <td>24.023279</td>\n",
       "      <td>17.346630</td>\n",
       "      <td>1776.000000</td>\n",
       "      <td>2.399902</td>\n",
       "      <td>...</td>\n",
       "      <td>267.250000</td>\n",
       "      <td>885.079102</td>\n",
       "      <td>2.399902</td>\n",
       "      <td>3.141602</td>\n",
       "      <td>0.105713</td>\n",
       "      <td>0.450496</td>\n",
       "      <td>0.149926</td>\n",
       "      <td>4.904033</td>\n",
       "      <td>4.918265</td>\n",
       "      <td>1.000000</td>\n",
       "    </tr>\n",
       "  </tbody>\n",
       "</table>\n",
       "<p>8 rows × 21 columns</p>\n",
       "</div>"
      ],
      "text/plain": [
       "           photon_pt     photon_eta     photon_phi     photon_hoe  \\\n",
       "count  855579.000000  855579.000000  855579.000000  855579.000000   \n",
       "mean       48.350057       0.003989       0.012482       0.174138   \n",
       "std        40.563230       0.781453       1.815523       0.161405   \n",
       "min        20.000013      -1.444092      -3.141602       0.000000   \n",
       "25%        25.436474      -0.636597      -1.558594       0.007080   \n",
       "50%        34.645893       0.008839       0.013788       0.160645   \n",
       "75%        54.804638       0.645386       1.587158       0.300781   \n",
       "max      1075.912109       1.444092       3.141602       2.867188   \n",
       "\n",
       "           photon_r9   photon_sieie  photon_pfRelIso03_all  \\\n",
       "count  855579.000000  855579.000000          855579.000000   \n",
       "mean        0.724939       0.012634               0.733765   \n",
       "std         0.239834       0.003758               0.820339   \n",
       "min         0.100952       0.000196               0.000000   \n",
       "25%         0.548340       0.009323               0.139816   \n",
       "50%         0.752930       0.011787               0.520099   \n",
       "75%         0.932617       0.015381               1.047740   \n",
       "max        20.515625       0.030167              24.023279   \n",
       "\n",
       "       photon_pfRelIso03_chg         jet_pt        jet_eta  ...  \\\n",
       "count          855579.000000  855579.000000  855579.000000  ...   \n",
       "mean                0.455420     140.578637       0.004473  ...   \n",
       "std                 0.556702      75.768024       1.020286  ...   \n",
       "min                 0.000000      34.531250      -2.399902  ...   \n",
       "25%                 0.047417      92.937500      -0.756714  ...   \n",
       "50%                 0.288517     121.062500       0.005845  ...   \n",
       "75%                 0.658474     163.875000       0.768127  ...   \n",
       "max                17.346630    1776.000000       2.399902  ...   \n",
       "\n",
       "            jet_mass        muon_pt       muon_eta       muon_phi  \\\n",
       "count  855579.000000  855579.000000  855579.000000  855579.000000   \n",
       "mean       16.464279      70.038697       0.006301      -0.005696   \n",
       "std        10.263589      40.682925       1.052721       1.816676   \n",
       "min         1.002930      30.000050      -2.399902      -3.141602   \n",
       "25%        10.601562      42.410805      -0.767700      -1.581543   \n",
       "50%        14.171875      58.101337       0.005819      -0.011141   \n",
       "75%        19.281250      84.085567       0.780396       1.572021   \n",
       "max       267.250000     885.079102       2.399902       3.141602   \n",
       "\n",
       "           muon_mass  muon_pfRelIso03_all  muon_pfRelIso03_chg  \\\n",
       "count  855579.000000        855579.000000        855579.000000   \n",
       "mean        0.105713             0.016173             0.008393   \n",
       "std         0.000000             0.024052             0.015345   \n",
       "min         0.105713             0.000000             0.000000   \n",
       "25%         0.105713             0.000000             0.000000   \n",
       "50%         0.105713             0.006353             0.000000   \n",
       "75%         0.105713             0.022676             0.011128   \n",
       "max         0.105713             0.450496             0.149926   \n",
       "\n",
       "       deltaR_photon_lepton  deltaR_photon_jet         target  \n",
       "count         855579.000000      855579.000000  855579.000000  \n",
       "mean               2.186535           1.629632       0.431477  \n",
       "std                0.864183           1.264622       0.495283  \n",
       "min                0.000061           0.000000       0.000000  \n",
       "25%                1.495825           0.082460       0.000000  \n",
       "50%                2.317909           1.807442       0.000000  \n",
       "75%                2.893058           2.794548       1.000000  \n",
       "max                4.904033           4.918265       1.000000  \n",
       "\n",
       "[8 rows x 21 columns]"
      ]
     },
     "execution_count": 20,
     "metadata": {},
     "output_type": "execute_result"
    }
   ],
   "source": [
    "df = pd.DataFrame({\n",
    "    'photon_pt': np.array(outputMC['photon_pt'].value)[:,0],\n",
    "    'photon_eta': np.array(outputMC['photon_eta'].value)[:,0],\n",
    "    'photon_phi': np.array(outputMC['photon_phi'].value)[:,0],\n",
    "    'photon_hoe': np.array(outputMC['photon_hoe'].value)[:,0],\n",
    "    'photon_r9': np.array(outputMC['photon_r9'].value)[:,0],\n",
    "    'photon_sieie': np.array(outputMC['photon_sieie'].value)[:,0],\n",
    "    'photon_pfRelIso03_all': np.array(outputMC['photon_pfRelIso03_all'].value)[:,0],\n",
    "    'photon_pfRelIso03_chg': np.array(outputMC['photon_pfRelIso03_chg'].value)[:,0],\n",
    "    \n",
    "    #'jet_count': np.array(outputMC['jet_count'].value)[:,0],\n",
    "    'jet_pt': np.array(outputMC['jet_pt'].value)[:,0],\n",
    "    'jet_eta': np.array(outputMC['jet_eta'].value)[:,0],\n",
    "    'jet_phi': np.array(outputMC['jet_phi'].value)[:,0],\n",
    "    'jet_mass': np.array(outputMC['jet_mass'].value)[:,0],\n",
    "    \n",
    "    'muon_pt': np.array(outputMC['muon_pt'].value)[:,0],\n",
    "    'muon_eta': np.array(outputMC['muon_eta'].value)[:,0],\n",
    "    'muon_phi': np.array(outputMC['muon_phi'].value)[:,0],\n",
    "    'muon_mass': np.array(outputMC['muon_mass'].value)[:,0],\n",
    "    'muon_pfRelIso03_all': np.array(outputMC['muon_pfRelIso03_all'].value)[:,0],\n",
    "    'muon_pfRelIso03_chg': np.array(outputMC['muon_pfRelIso03_chg'].value)[:,0],\n",
    "    \n",
    "    'deltaR_photon_lepton': np.array(outputMC['deltaR_photon_lepton'].value)[:,0],\n",
    "    'deltaR_photon_jet': np.array(outputMC['deltaR_photon_jet'].value)[:,0],\n",
    "    \n",
    "    'target': np.array(outputMC['label'].value)[:,0]\n",
    "})\n",
    "df.describe()"
   ]
  },
  {
   "cell_type": "code",
   "execution_count": 21,
   "metadata": {},
   "outputs": [
    {
     "data": {
      "text/plain": [
       "0.0    486416\n",
       "1.0    369163\n",
       "Name: target, dtype: int64"
      ]
     },
     "execution_count": 21,
     "metadata": {},
     "output_type": "execute_result"
    }
   ],
   "source": [
    "df['target'].value_counts()"
   ]
  },
  {
   "cell_type": "code",
   "execution_count": 22,
   "metadata": {},
   "outputs": [],
   "source": [
    "# split into features and labels\n",
    "X = np.array(df.drop(['target'],axis=1))\n",
    "y = df['target']\n",
    "\n",
    "# shuffle & split into training, validation, testing datasets\n",
    "X_train, X_test, y_train, y_test = train_test_split(X, y, test_size=0.2, random_state=1)\n",
    "X_train, X_val, y_train, y_val = train_test_split(X_train, y_train, test_size=0.25, random_state=1)"
   ]
  },
  {
   "cell_type": "code",
   "execution_count": 23,
   "metadata": {},
   "outputs": [],
   "source": [
    "# Scale: mean=0, stdev=1\n",
    "scaler = StandardScaler()\n",
    "X_train_scaled=scaler.fit_transform(X_train)\n",
    "X_val_scaled=scaler.fit_transform(X_val)\n",
    "X_test_scaled=scaler.fit_transform(X_test)"
   ]
  },
  {
   "cell_type": "code",
   "execution_count": 24,
   "metadata": {},
   "outputs": [
    {
     "name": "stdout",
     "output_type": "stream",
     "text": [
      "Model: \"sequential\"\n",
      "_________________________________________________________________\n",
      "Layer (type)                 Output Shape              Param #   \n",
      "=================================================================\n",
      "dense (Dense)                (None, 32)                672       \n",
      "_________________________________________________________________\n",
      "dense_1 (Dense)              (None, 32)                1056      \n",
      "_________________________________________________________________\n",
      "dense_2 (Dense)              (None, 1)                 33        \n",
      "=================================================================\n",
      "Total params: 1,761\n",
      "Trainable params: 1,761\n",
      "Non-trainable params: 0\n",
      "_________________________________________________________________\n"
     ]
    }
   ],
   "source": [
    "model = Sequential()\n",
    "model.add(Dense(32, input_shape=(20,), activation=\"relu\"))\n",
    "model.add(Dense(32, activation=\"relu\"))\n",
    "model.add(Dense(1,activation=\"sigmoid\"))\n",
    "\n",
    "model.compile(\"adam\", \"binary_crossentropy\", metrics=[\"accuracy\"])\n",
    "model.summary()"
   ]
  },
  {
   "cell_type": "code",
   "execution_count": 25,
   "metadata": {},
   "outputs": [
    {
     "name": "stdout",
     "output_type": "stream",
     "text": [
      "Epoch 1/5\n",
      "4011/4011 [==============================] - 6s 2ms/step - loss: 0.4976 - accuracy: 0.7795\n",
      "Epoch 2/5\n",
      "4011/4011 [==============================] - 7s 2ms/step - loss: 0.4842 - accuracy: 0.7884\n",
      "Epoch 3/5\n",
      "4011/4011 [==============================] - 6s 2ms/step - loss: 0.4818 - accuracy: 0.7898\n",
      "Epoch 4/5\n",
      "4011/4011 [==============================] - 7s 2ms/step - loss: 0.4805 - accuracy: 0.7904\n",
      "Epoch 5/5\n",
      "4011/4011 [==============================] - 7s 2ms/step - loss: 0.4796 - accuracy: 0.7910\n"
     ]
    },
    {
     "data": {
      "text/plain": [
       "<tensorflow.python.keras.callbacks.History at 0x7f1de04591c0>"
      ]
     },
     "execution_count": 25,
     "metadata": {},
     "output_type": "execute_result"
    }
   ],
   "source": [
    "model.fit(X_train_scaled, y_train, epochs=5, batch_size=128)"
   ]
  },
  {
   "cell_type": "code",
   "execution_count": 165,
   "metadata": {},
   "outputs": [
    {
     "name": "stdout",
     "output_type": "stream",
     "text": [
      "Test loss: 0.4809\n",
      "Test accuracy: 0.79056\n"
     ]
    }
   ],
   "source": [
    "loss, accuracy = model.evaluate(X_test_scaled,y_test,verbose=0)\n",
    "print(f'Test loss: {round(loss,5)}\\nTest accuracy: {round(accuracy,5)}')"
   ]
  },
  {
   "cell_type": "code",
   "execution_count": 27,
   "metadata": {},
   "outputs": [],
   "source": [
    "y_pred = model.predict(X_test_scaled)\n",
    "fpr, tpr, thresholds = roc_curve(y_test, y_pred)\n",
    "area_under_curve = auc(fpr, tpr)"
   ]
  },
  {
   "cell_type": "code",
   "execution_count": 28,
   "metadata": {},
   "outputs": [
    {
     "data": {
      "image/png": "[encoded data removed]",
      "text/plain": [
       "<Figure size 432x288 with 1 Axes>"
      ]
     },
     "metadata": {
      "needs_background": "light"
     },
     "output_type": "display_data"
    }
   ],
   "source": [
    "plt.plot([0,1], [0,1], 'k--')\n",
    "plt.plot(fpr, tpr, label='area = {:.3f}'.format(area_under_curve))\n",
    "\n",
    "plt.xlabel('False positive rate')\n",
    "plt.ylabel('True positive rate')\n",
    "plt.title('ROC curve')\n",
    "plt.legend(loc='best')\n",
    "plt.show()"
   ]
  },
  {
   "cell_type": "code",
   "execution_count": 29,
   "metadata": {},
   "outputs": [],
   "source": [
    "predTrue  = y_pred[y_test==True]\n",
    "predFalse = y_pred[y_test==False]"
   ]
  },
  {
   "cell_type": "code",
   "execution_count": 30,
   "metadata": {},
   "outputs": [
    {
     "data": {
      "image/png": "[encoded data removed]",
      "text/plain": [
       "<Figure size 432x288 with 1 Axes>"
      ]
     },
     "metadata": {
      "needs_background": "light"
     },
     "output_type": "display_data"
    }
   ],
   "source": [
    "plt.hist(predTrue,bins=50,alpha=0.5,label='label=1, TTGamma')\n",
    "plt.hist(predFalse,bins=50,alpha=0.5,label='label=0, TTbar')\n",
    "\n",
    "plt.xlabel('Predicted label')\n",
    "plt.ylabel('Counts')\n",
    "plt.title('')\n",
    "plt.legend(loc='best')\n",
    "plt.show()"
   ]
  },
  {
   "cell_type": "code",
   "execution_count": 31,
   "metadata": {},
   "outputs": [],
   "source": [
    "xTrue = X_test[y_test==True]\n",
    "xFalse = X_test[y_test==False]\n",
    "\n",
    "tp = predTrue>0.5  # label is 1, prediction is 1\n",
    "tp = tp[:,0]\n",
    "fp = predFalse>0.5 # label is 0, prediction is 1\n",
    "fp = fp[:,0]\n",
    "tn = predFalse<0.5 # label is 0, prediction is 0\n",
    "tn = tn[:,0]\n",
    "fn = predTrue<0.5  # label is 1, prediction is 0\n",
    "fn = fn[:,0]\n",
    "\n",
    "xTP = xTrue[tp]\n",
    "xFP = xFalse[fp]\n",
    "xTN = xFalse[tn]\n",
    "xFN = xTrue[fn]"
   ]
  },
  {
   "cell_type": "code",
   "execution_count": 117,
   "metadata": {},
   "outputs": [
    {
     "data": {
      "image/png": "[encoded data removed]",
      "text/plain": [
       "<Figure size 1440x216 with 4 Axes>"
      ]
     },
     "metadata": {
      "needs_background": "light"
     },
     "output_type": "display_data"
    }
   ],
   "source": [
    "fig, axs = plt.subplots(1,4,figsize=(20,3))\n",
    "\n",
    "axs[0].set_title('true positive')\n",
    "axs[0].hist(xTrue[:,0],bins=50,density=True,alpha=0.5)\n",
    "axs[0].hist(xTP[:,0],bins=50,density=True,alpha=0.5)\n",
    "\n",
    "axs[1].set_title('false positive')\n",
    "axs[1].hist(xFalse[:,0],bins=50,density=True,alpha=0.5)\n",
    "axs[1].hist(xFP[:,0],bins=50,density=True,alpha=0.5)\n",
    "\n",
    "axs[2].set_title('true negative')\n",
    "axs[2].hist(xFalse[:,0],bins=50,density=True,alpha=0.5)\n",
    "axs[2].hist(xTN[:,0],bins=50,density=True,alpha=0.5)\n",
    "\n",
    "axs[3].set_title('false negative')\n",
    "axs[3].hist(xTrue[:,0],bins=50,density=True,alpha=0.5)\n",
    "axs[3].hist(xFN[:,0],bins=50,density=True,alpha=0.5)\n",
    "\n",
    "plt.show()"
   ]
  },
  {
   "cell_type": "markdown",
   "metadata": {},
   "source": [
    "## Decision tree classifier"
   ]
  },
  {
   "cell_type": "code",
   "execution_count": 34,
   "metadata": {},
   "outputs": [],
   "source": [
    "from sklearn.tree import DecisionTreeClassifier, plot_tree\n",
    "from sklearn.ensemble import AdaBoostClassifier, GradientBoostingClassifier\n",
    "from sklearn.model_selection import train_test_split"
   ]
  },
  {
   "cell_type": "code",
   "execution_count": 35,
   "metadata": {},
   "outputs": [
    {
     "data": {
      "text/html": [
       "<div>\n",
       "<style scoped>\n",
       "    .dataframe tbody tr th:only-of-type {\n",
       "        vertical-align: middle;\n",
       "    }\n",
       "\n",
       "    .dataframe tbody tr th {\n",
       "        vertical-align: top;\n",
       "    }\n",
       "\n",
       "    .dataframe thead th {\n",
       "        text-align: right;\n",
       "    }\n",
       "</style>\n",
       "<table border=\"1\" class=\"dataframe\">\n",
       "  <thead>\n",
       "    <tr style=\"text-align: right;\">\n",
       "      <th></th>\n",
       "      <th>photon_pt</th>\n",
       "      <th>photon_eta</th>\n",
       "      <th>photon_phi</th>\n",
       "      <th>photon_hoe</th>\n",
       "      <th>photon_r9</th>\n",
       "      <th>photon_sieie</th>\n",
       "      <th>photon_pfRelIso03_all</th>\n",
       "      <th>photon_pfRelIso03_chg</th>\n",
       "      <th>jet_pt</th>\n",
       "      <th>jet_eta</th>\n",
       "      <th>...</th>\n",
       "      <th>jet_mass</th>\n",
       "      <th>muon_pt</th>\n",
       "      <th>muon_eta</th>\n",
       "      <th>muon_phi</th>\n",
       "      <th>muon_mass</th>\n",
       "      <th>muon_pfRelIso03_all</th>\n",
       "      <th>muon_pfRelIso03_chg</th>\n",
       "      <th>deltaR_photon_lepton</th>\n",
       "      <th>deltaR_photon_jet</th>\n",
       "      <th>target</th>\n",
       "    </tr>\n",
       "  </thead>\n",
       "  <tbody>\n",
       "    <tr>\n",
       "      <th>0</th>\n",
       "      <td>53.171295</td>\n",
       "      <td>-0.650879</td>\n",
       "      <td>-2.975586</td>\n",
       "      <td>0.301758</td>\n",
       "      <td>0.856934</td>\n",
       "      <td>0.013046</td>\n",
       "      <td>0.779366</td>\n",
       "      <td>0.697734</td>\n",
       "      <td>174.8750</td>\n",
       "      <td>-0.654907</td>\n",
       "      <td>...</td>\n",
       "      <td>37.968750</td>\n",
       "      <td>128.442123</td>\n",
       "      <td>-0.027340</td>\n",
       "      <td>-0.064255</td>\n",
       "      <td>0.105713</td>\n",
       "      <td>0.005867</td>\n",
       "      <td>0.005867</td>\n",
       "      <td>2.977356</td>\n",
       "      <td>0.087495</td>\n",
       "      <td>0.0</td>\n",
       "    </tr>\n",
       "    <tr>\n",
       "      <th>1</th>\n",
       "      <td>57.229649</td>\n",
       "      <td>0.519287</td>\n",
       "      <td>-1.353516</td>\n",
       "      <td>0.183105</td>\n",
       "      <td>0.735352</td>\n",
       "      <td>0.011314</td>\n",
       "      <td>0.327964</td>\n",
       "      <td>0.225708</td>\n",
       "      <td>415.7500</td>\n",
       "      <td>-1.585205</td>\n",
       "      <td>...</td>\n",
       "      <td>32.875000</td>\n",
       "      <td>171.882904</td>\n",
       "      <td>0.527344</td>\n",
       "      <td>-2.083984</td>\n",
       "      <td>0.105713</td>\n",
       "      <td>0.000000</td>\n",
       "      <td>0.000000</td>\n",
       "      <td>0.730513</td>\n",
       "      <td>3.393098</td>\n",
       "      <td>0.0</td>\n",
       "    </tr>\n",
       "    <tr>\n",
       "      <th>2</th>\n",
       "      <td>129.583298</td>\n",
       "      <td>1.288086</td>\n",
       "      <td>0.755493</td>\n",
       "      <td>0.374023</td>\n",
       "      <td>0.750977</td>\n",
       "      <td>0.015610</td>\n",
       "      <td>1.093135</td>\n",
       "      <td>0.819927</td>\n",
       "      <td>225.1250</td>\n",
       "      <td>1.299316</td>\n",
       "      <td>...</td>\n",
       "      <td>29.078125</td>\n",
       "      <td>140.628632</td>\n",
       "      <td>0.141174</td>\n",
       "      <td>-2.837402</td>\n",
       "      <td>0.105713</td>\n",
       "      <td>0.000000</td>\n",
       "      <td>0.000000</td>\n",
       "      <td>2.924562</td>\n",
       "      <td>0.015457</td>\n",
       "      <td>0.0</td>\n",
       "    </tr>\n",
       "    <tr>\n",
       "      <th>3</th>\n",
       "      <td>39.797897</td>\n",
       "      <td>-0.128571</td>\n",
       "      <td>2.544434</td>\n",
       "      <td>0.257812</td>\n",
       "      <td>0.679688</td>\n",
       "      <td>0.012558</td>\n",
       "      <td>0.222316</td>\n",
       "      <td>0.081593</td>\n",
       "      <td>103.9375</td>\n",
       "      <td>-0.526733</td>\n",
       "      <td>...</td>\n",
       "      <td>10.648438</td>\n",
       "      <td>108.521317</td>\n",
       "      <td>0.591064</td>\n",
       "      <td>-0.277588</td>\n",
       "      <td>0.105713</td>\n",
       "      <td>0.000000</td>\n",
       "      <td>0.000000</td>\n",
       "      <td>2.912333</td>\n",
       "      <td>1.008204</td>\n",
       "      <td>0.0</td>\n",
       "    </tr>\n",
       "    <tr>\n",
       "      <th>4</th>\n",
       "      <td>122.852882</td>\n",
       "      <td>-1.407959</td>\n",
       "      <td>0.123810</td>\n",
       "      <td>0.208008</td>\n",
       "      <td>0.615234</td>\n",
       "      <td>0.013283</td>\n",
       "      <td>0.489129</td>\n",
       "      <td>0.481821</td>\n",
       "      <td>163.2500</td>\n",
       "      <td>-1.413330</td>\n",
       "      <td>...</td>\n",
       "      <td>14.718750</td>\n",
       "      <td>118.424644</td>\n",
       "      <td>0.059258</td>\n",
       "      <td>-1.565186</td>\n",
       "      <td>0.105713</td>\n",
       "      <td>0.020826</td>\n",
       "      <td>0.000000</td>\n",
       "      <td>2.237282</td>\n",
       "      <td>0.012614</td>\n",
       "      <td>0.0</td>\n",
       "    </tr>\n",
       "  </tbody>\n",
       "</table>\n",
       "<p>5 rows × 21 columns</p>\n",
       "</div>"
      ],
      "text/plain": [
       "    photon_pt  photon_eta  photon_phi  photon_hoe  photon_r9  photon_sieie  \\\n",
       "0   53.171295   -0.650879   -2.975586    0.301758   0.856934      0.013046   \n",
       "1   57.229649    0.519287   -1.353516    0.183105   0.735352      0.011314   \n",
       "2  129.583298    1.288086    0.755493    0.374023   0.750977      0.015610   \n",
       "3   39.797897   -0.128571    2.544434    0.257812   0.679688      0.012558   \n",
       "4  122.852882   -1.407959    0.123810    0.208008   0.615234      0.013283   \n",
       "\n",
       "   photon_pfRelIso03_all  photon_pfRelIso03_chg    jet_pt   jet_eta  ...  \\\n",
       "0               0.779366               0.697734  174.8750 -0.654907  ...   \n",
       "1               0.327964               0.225708  415.7500 -1.585205  ...   \n",
       "2               1.093135               0.819927  225.1250  1.299316  ...   \n",
       "3               0.222316               0.081593  103.9375 -0.526733  ...   \n",
       "4               0.489129               0.481821  163.2500 -1.413330  ...   \n",
       "\n",
       "    jet_mass     muon_pt  muon_eta  muon_phi  muon_mass  muon_pfRelIso03_all  \\\n",
       "0  37.968750  128.442123 -0.027340 -0.064255   0.105713             0.005867   \n",
       "1  32.875000  171.882904  0.527344 -2.083984   0.105713             0.000000   \n",
       "2  29.078125  140.628632  0.141174 -2.837402   0.105713             0.000000   \n",
       "3  10.648438  108.521317  0.591064 -0.277588   0.105713             0.000000   \n",
       "4  14.718750  118.424644  0.059258 -1.565186   0.105713             0.020826   \n",
       "\n",
       "   muon_pfRelIso03_chg  deltaR_photon_lepton  deltaR_photon_jet  target  \n",
       "0             0.005867              2.977356           0.087495     0.0  \n",
       "1             0.000000              0.730513           3.393098     0.0  \n",
       "2             0.000000              2.924562           0.015457     0.0  \n",
       "3             0.000000              2.912333           1.008204     0.0  \n",
       "4             0.000000              2.237282           0.012614     0.0  \n",
       "\n",
       "[5 rows x 21 columns]"
      ]
     },
     "execution_count": 35,
     "metadata": {},
     "output_type": "execute_result"
    }
   ],
   "source": [
    "df.head()"
   ]
  },
  {
   "cell_type": "code",
   "execution_count": 36,
   "metadata": {},
   "outputs": [],
   "source": [
    "# feature selection & splitting data\n",
    "X = df.drop(['target'],axis=1)\n",
    "y = df.target\n",
    "\n",
    "X_train,X_test,y_train,y_test = train_test_split(X,y,test_size=0.1,random_state=1)"
   ]
  },
  {
   "cell_type": "code",
   "execution_count": 91,
   "metadata": {},
   "outputs": [],
   "source": [
    "# Scale: mean=0, stdev=1\n",
    "scaler = StandardScaler()\n",
    "X_train_scaled=scaler.fit_transform(X_train)\n",
    "X_test_scaled=scaler.fit_transform(X_test)"
   ]
  },
  {
   "cell_type": "code",
   "execution_count": 38,
   "metadata": {},
   "outputs": [],
   "source": [
    "### build & train decision tree model ###\n",
    "clf = DecisionTreeClassifier(criterion=\"entropy\",max_depth=3).fit(X_train_scaled,y_train)\n",
    "y_pred = clf.predict(X_test_scaled)"
   ]
  },
  {
   "cell_type": "code",
   "execution_count": 135,
   "metadata": {},
   "outputs": [
    {
     "name": "stdout",
     "output_type": "stream",
     "text": [
      "Test accuracy:  0.7791673484653685\n",
      "Train accuracy: 0.7798553545942254\n"
     ]
    }
   ],
   "source": [
    "print(\"Test accuracy: \",clf.score(X_test_scaled, y_test))\n",
    "print(\"Train accuracy:\",clf.score(X_train_scaled, y_train))"
   ]
  },
  {
   "cell_type": "code",
   "execution_count": 158,
   "metadata": {},
   "outputs": [
    {
     "data": {
      "image/png": "[encoded data removed]",
      "text/plain": [
       "<Figure size 432x288 with 1 Axes>"
      ]
     },
     "metadata": {
      "needs_background": "light"
     },
     "output_type": "display_data"
    }
   ],
   "source": [
    "prob = clf.predict_proba(X_test_scaled)\n",
    "\n",
    "plt.hist(prob[y_test==True][:,1],alpha=0.5,label=\"1\")\n",
    "plt.hist(prob[y_test==False][:,1],alpha=0.5,label=\"0\")\n",
    "plt.legend()\n",
    "plt.show()"
   ]
  },
  {
   "cell_type": "code",
   "execution_count": 45,
   "metadata": {},
   "outputs": [
    {
     "data": {
      "text/plain": [
       "array([-0.78451511, -0.50858772, -0.33348672, -2.        , -2.        ,\n",
       "        0.77024433, -2.        , -2.        , -0.68115938, -0.1784437 ,\n",
       "       -2.        , -2.        ,  0.77227834, -2.        , -2.        ])"
      ]
     },
     "execution_count": 45,
     "metadata": {},
     "output_type": "execute_result"
    }
   ],
   "source": [
    "clf.tree_.threshold"
   ]
  },
  {
   "cell_type": "code",
   "execution_count": 46,
   "metadata": {},
   "outputs": [
    {
     "data": {
      "text/plain": [
       "array([0.98652196, 0.520525  , 0.35935053, 0.31700061, 0.96678324,\n",
       "       0.9331828 , 0.8586303 , 0.86738911, 0.89125816, 0.99590934,\n",
       "       0.92217699, 0.91940502, 0.78077345, 0.76789153, 0.87198653])"
      ]
     },
     "execution_count": 46,
     "metadata": {},
     "output_type": "execute_result"
    }
   ],
   "source": [
    "clf.tree_.impurity"
   ]
  },
  {
   "cell_type": "code",
   "execution_count": 48,
   "metadata": {},
   "outputs": [
    {
     "data": {
      "image/png": "[encoded data removed]",
      "text/plain": [
       "<Figure size 432x288 with 1 Axes>"
      ]
     },
     "metadata": {
      "needs_background": "light"
     },
     "output_type": "display_data"
    }
   ],
   "source": [
    "important = pd.Series(data=clf.feature_importances_, index=X_train_scaled.columns).sort_values()\n",
    "\n",
    "fig = plt.subplots()\n",
    "important.plot(kind='barh')\n",
    "plt.title('CLF feature importances')\n",
    "plt.show()"
   ]
  },
  {
   "cell_type": "code",
   "execution_count": 49,
   "metadata": {},
   "outputs": [
    {
     "data": {
      "text/plain": [
       "array([0.        , 0.        , 0.        , 0.07708014, 0.00873547,\n",
       "       0.25784649, 0.6563379 , 0.        , 0.        , 0.        ,\n",
       "       0.        , 0.        , 0.        , 0.        , 0.        ,\n",
       "       0.        , 0.        , 0.        , 0.        , 0.        ])"
      ]
     },
     "execution_count": 49,
     "metadata": {},
     "output_type": "execute_result"
    }
   ],
   "source": [
    "clf.feature_importances_"
   ]
  },
  {
   "cell_type": "markdown",
   "metadata": {},
   "source": [
    "## AdaBoostClassifier"
   ]
  },
  {
   "cell_type": "code",
   "execution_count": 83,
   "metadata": {},
   "outputs": [
    {
     "data": {
      "text/plain": [
       "AdaBoostClassifier(base_estimator=DecisionTreeClassifier(criterion='entropy',\n",
       "                                                         max_depth=3))"
      ]
     },
     "execution_count": 83,
     "metadata": {},
     "output_type": "execute_result"
    }
   ],
   "source": [
    "abc = AdaBoostClassifier(base_estimator=DecisionTreeClassifier(criterion=\"entropy\",max_depth=3))\n",
    "abc.fit(X_train_scaled,y_train)"
   ]
  },
  {
   "cell_type": "code",
   "execution_count": 168,
   "metadata": {},
   "outputs": [
    {
     "name": "stdout",
     "output_type": "stream",
     "text": [
      "Test accuracy:  0.7918838682531149\n",
      "Train accuracy: 0.7939627620545414\n"
     ]
    }
   ],
   "source": [
    "y_pred = abc.predict(X_test_scaled)\n",
    "\n",
    "print(\"Test accuracy: \", abc.score(X_test_scaled,y_test))\n",
    "print(\"Train accuracy:\", abc.score(X_train_scaled,y_train))"
   ]
  },
  {
   "cell_type": "code",
   "execution_count": 169,
   "metadata": {},
   "outputs": [
    {
     "data": {
      "image/png": "[encoded data removed]",
      "text/plain": [
       "<Figure size 432x288 with 1 Axes>"
      ]
     },
     "metadata": {
      "needs_background": "light"
     },
     "output_type": "display_data"
    }
   ],
   "source": [
    "important = pd.Series(data=abc.feature_importances_, index=X_train.columns).sort_values()\n",
    "\n",
    "fig = plt.subplots()\n",
    "important.plot(kind='barh')\n",
    "plt.title('AdaBoost feature importances')\n",
    "plt.show()"
   ]
  },
  {
   "cell_type": "code",
   "execution_count": 170,
   "metadata": {},
   "outputs": [
    {
     "data": {
      "text/plain": [
       "array([[0.50682417, 0.49317583],\n",
       "       [0.51223773, 0.48776227],\n",
       "       [0.48418944, 0.51581056],\n",
       "       ...,\n",
       "       [0.48432399, 0.51567601],\n",
       "       [0.49025622, 0.50974378],\n",
       "       [0.50899753, 0.49100247]])"
      ]
     },
     "execution_count": 170,
     "metadata": {},
     "output_type": "execute_result"
    }
   ],
   "source": [
    "prob = abc.predict_proba(X_test_scaled)\n",
    "prob  # [probability of being 0,  probability of being 1],"
   ]
  },
  {
   "cell_type": "code",
   "execution_count": 171,
   "metadata": {},
   "outputs": [
    {
     "data": {
      "image/png": "[encoded data removed]",
      "text/plain": [
       "<Figure size 432x288 with 1 Axes>"
      ]
     },
     "metadata": {
      "needs_background": "light"
     },
     "output_type": "display_data"
    }
   ],
   "source": [
    "plt.hist(prob[y_test==True][:,1],alpha=0.5,label=\"1\")\n",
    "plt.hist(prob[y_test==False][:,1],alpha=0.5,label=\"0\")\n",
    "plt.legend()\n",
    "plt.show()"
   ]
  },
  {
   "cell_type": "code",
   "execution_count": 173,
   "metadata": {},
   "outputs": [
    {
     "name": "stdout",
     "output_type": "stream",
     "text": [
      "1 train score 0.7791673484653685\n",
      "2 train score 0.779237476331845\n",
      "3 train score 0.7810257369269968\n",
      "4 train score 0.7809672970382664\n",
      "5 train score 0.7834568362981836\n",
      "6 train score 0.7866944061338508\n",
      "7 train score 0.7878281399752215\n",
      "8 train score 0.7877112601977606\n",
      "9 train score 0.788283971107319\n",
      "10 train score 0.7883657869515417\n"
     ]
    }
   ],
   "source": [
    "for i, score in enumerate(abc.staged_score(X_test_scaled,y_test)):\n",
    "    print(i+1,\"train score\", score)\n",
    "    if i == 9:\n",
    "        break"
   ]
  },
  {
   "cell_type": "markdown",
   "metadata": {},
   "source": [
    "## GradientBoostingClassifier"
   ]
  },
  {
   "cell_type": "code",
   "execution_count": 174,
   "metadata": {},
   "outputs": [
    {
     "ename": "KeyboardInterrupt",
     "evalue": "",
     "output_type": "error",
     "traceback": [
      "\u001b[0;31m---------------------------------------------------------------------------\u001b[0m",
      "\u001b[0;31mKeyboardInterrupt\u001b[0m                         Traceback (most recent call last)",
      "\u001b[0;32m<ipython-input-174-d298435f195f>\u001b[0m in \u001b[0;36m<module>\u001b[0;34m\u001b[0m\n\u001b[1;32m      1\u001b[0m \u001b[0mgbc\u001b[0m \u001b[0;34m=\u001b[0m \u001b[0mGradientBoostingClassifier\u001b[0m\u001b[0;34m(\u001b[0m\u001b[0;34m)\u001b[0m\u001b[0;34m\u001b[0m\u001b[0;34m\u001b[0m\u001b[0m\n\u001b[0;32m----> 2\u001b[0;31m \u001b[0mgbc\u001b[0m\u001b[0;34m.\u001b[0m\u001b[0mfit\u001b[0m\u001b[0;34m(\u001b[0m\u001b[0mX_train_scaled\u001b[0m\u001b[0;34m,\u001b[0m\u001b[0my_train\u001b[0m\u001b[0;34m)\u001b[0m\u001b[0;34m\u001b[0m\u001b[0;34m\u001b[0m\u001b[0m\n\u001b[0m",
      "\u001b[0;32m~/anaconda3/envs/tf_env/lib/python3.8/site-packages/sklearn/ensemble/_gb.py\u001b[0m in \u001b[0;36mfit\u001b[0;34m(self, X, y, sample_weight, monitor)\u001b[0m\n\u001b[1;32m    496\u001b[0m \u001b[0;34m\u001b[0m\u001b[0m\n\u001b[1;32m    497\u001b[0m         \u001b[0;31m# fit the boosting stages\u001b[0m\u001b[0;34m\u001b[0m\u001b[0;34m\u001b[0m\u001b[0;34m\u001b[0m\u001b[0m\n\u001b[0;32m--> 498\u001b[0;31m         n_stages = self._fit_stages(\n\u001b[0m\u001b[1;32m    499\u001b[0m             \u001b[0mX\u001b[0m\u001b[0;34m,\u001b[0m \u001b[0my\u001b[0m\u001b[0;34m,\u001b[0m \u001b[0mraw_predictions\u001b[0m\u001b[0;34m,\u001b[0m \u001b[0msample_weight\u001b[0m\u001b[0;34m,\u001b[0m \u001b[0mself\u001b[0m\u001b[0;34m.\u001b[0m\u001b[0m_rng\u001b[0m\u001b[0;34m,\u001b[0m \u001b[0mX_val\u001b[0m\u001b[0;34m,\u001b[0m \u001b[0my_val\u001b[0m\u001b[0;34m,\u001b[0m\u001b[0;34m\u001b[0m\u001b[0;34m\u001b[0m\u001b[0m\n\u001b[1;32m    500\u001b[0m             sample_weight_val, begin_at_stage, monitor, X_idx_sorted)\n",
      "\u001b[0;32m~/anaconda3/envs/tf_env/lib/python3.8/site-packages/sklearn/ensemble/_gb.py\u001b[0m in \u001b[0;36m_fit_stages\u001b[0;34m(self, X, y, raw_predictions, sample_weight, random_state, X_val, y_val, sample_weight_val, begin_at_stage, monitor, X_idx_sorted)\u001b[0m\n\u001b[1;32m    553\u001b[0m \u001b[0;34m\u001b[0m\u001b[0m\n\u001b[1;32m    554\u001b[0m             \u001b[0;31m# fit next stage of trees\u001b[0m\u001b[0;34m\u001b[0m\u001b[0;34m\u001b[0m\u001b[0;34m\u001b[0m\u001b[0m\n\u001b[0;32m--> 555\u001b[0;31m             raw_predictions = self._fit_stage(\n\u001b[0m\u001b[1;32m    556\u001b[0m                 \u001b[0mi\u001b[0m\u001b[0;34m,\u001b[0m \u001b[0mX\u001b[0m\u001b[0;34m,\u001b[0m \u001b[0my\u001b[0m\u001b[0;34m,\u001b[0m \u001b[0mraw_predictions\u001b[0m\u001b[0;34m,\u001b[0m \u001b[0msample_weight\u001b[0m\u001b[0;34m,\u001b[0m \u001b[0msample_mask\u001b[0m\u001b[0;34m,\u001b[0m\u001b[0;34m\u001b[0m\u001b[0;34m\u001b[0m\u001b[0m\n\u001b[1;32m    557\u001b[0m                 random_state, X_idx_sorted, X_csc, X_csr)\n",
      "\u001b[0;32m~/anaconda3/envs/tf_env/lib/python3.8/site-packages/sklearn/ensemble/_gb.py\u001b[0m in \u001b[0;36m_fit_stage\u001b[0;34m(self, i, X, y, raw_predictions, sample_weight, sample_mask, random_state, X_idx_sorted, X_csc, X_csr)\u001b[0m\n\u001b[1;32m    209\u001b[0m \u001b[0;34m\u001b[0m\u001b[0m\n\u001b[1;32m    210\u001b[0m             \u001b[0mX\u001b[0m \u001b[0;34m=\u001b[0m \u001b[0mX_csr\u001b[0m \u001b[0;32mif\u001b[0m \u001b[0mX_csr\u001b[0m \u001b[0;32mis\u001b[0m \u001b[0;32mnot\u001b[0m \u001b[0;32mNone\u001b[0m \u001b[0;32melse\u001b[0m \u001b[0mX\u001b[0m\u001b[0;34m\u001b[0m\u001b[0;34m\u001b[0m\u001b[0m\n\u001b[0;32m--> 211\u001b[0;31m             tree.fit(X, residual, sample_weight=sample_weight,\n\u001b[0m\u001b[1;32m    212\u001b[0m                      check_input=False, X_idx_sorted=X_idx_sorted)\n\u001b[1;32m    213\u001b[0m \u001b[0;34m\u001b[0m\u001b[0m\n",
      "\u001b[0;32m~/anaconda3/envs/tf_env/lib/python3.8/site-packages/sklearn/tree/_classes.py\u001b[0m in \u001b[0;36mfit\u001b[0;34m(self, X, y, sample_weight, check_input, X_idx_sorted)\u001b[0m\n\u001b[1;32m   1240\u001b[0m         \"\"\"\n\u001b[1;32m   1241\u001b[0m \u001b[0;34m\u001b[0m\u001b[0m\n\u001b[0;32m-> 1242\u001b[0;31m         super().fit(\n\u001b[0m\u001b[1;32m   1243\u001b[0m             \u001b[0mX\u001b[0m\u001b[0;34m,\u001b[0m \u001b[0my\u001b[0m\u001b[0;34m,\u001b[0m\u001b[0;34m\u001b[0m\u001b[0;34m\u001b[0m\u001b[0m\n\u001b[1;32m   1244\u001b[0m             \u001b[0msample_weight\u001b[0m\u001b[0;34m=\u001b[0m\u001b[0msample_weight\u001b[0m\u001b[0;34m,\u001b[0m\u001b[0;34m\u001b[0m\u001b[0;34m\u001b[0m\u001b[0m\n",
      "\u001b[0;32m~/anaconda3/envs/tf_env/lib/python3.8/site-packages/sklearn/tree/_classes.py\u001b[0m in \u001b[0;36mfit\u001b[0;34m(self, X, y, sample_weight, check_input, X_idx_sorted)\u001b[0m\n\u001b[1;32m    373\u001b[0m                                            min_impurity_split)\n\u001b[1;32m    374\u001b[0m \u001b[0;34m\u001b[0m\u001b[0m\n\u001b[0;32m--> 375\u001b[0;31m         \u001b[0mbuilder\u001b[0m\u001b[0;34m.\u001b[0m\u001b[0mbuild\u001b[0m\u001b[0;34m(\u001b[0m\u001b[0mself\u001b[0m\u001b[0;34m.\u001b[0m\u001b[0mtree_\u001b[0m\u001b[0;34m,\u001b[0m \u001b[0mX\u001b[0m\u001b[0;34m,\u001b[0m \u001b[0my\u001b[0m\u001b[0;34m,\u001b[0m \u001b[0msample_weight\u001b[0m\u001b[0;34m,\u001b[0m \u001b[0mX_idx_sorted\u001b[0m\u001b[0;34m)\u001b[0m\u001b[0;34m\u001b[0m\u001b[0;34m\u001b[0m\u001b[0m\n\u001b[0m\u001b[1;32m    376\u001b[0m \u001b[0;34m\u001b[0m\u001b[0m\n\u001b[1;32m    377\u001b[0m         \u001b[0;32mif\u001b[0m \u001b[0mself\u001b[0m\u001b[0;34m.\u001b[0m\u001b[0mn_outputs_\u001b[0m \u001b[0;34m==\u001b[0m \u001b[0;36m1\u001b[0m \u001b[0;32mand\u001b[0m \u001b[0mis_classifier\u001b[0m\u001b[0;34m(\u001b[0m\u001b[0mself\u001b[0m\u001b[0;34m)\u001b[0m\u001b[0;34m:\u001b[0m\u001b[0;34m\u001b[0m\u001b[0;34m\u001b[0m\u001b[0m\n",
      "\u001b[0;31mKeyboardInterrupt\u001b[0m: "
     ]
    }
   ],
   "source": [
    "gbc = GradientBoostingClassifier()\n",
    "gbc.fit(X_train_scaled,y_train)"
   ]
  },
  {
   "cell_type": "code",
   "execution_count": null,
   "metadata": {},
   "outputs": [],
   "source": [
    "print(\"Test accuracy: \",gbc.score(X_test_scaled,y_test))\n",
    "print(\"Train accuracy:\",gbc.score(X_train_scaled,y_train))"
   ]
  },
  {
   "cell_type": "code",
   "execution_count": null,
   "metadata": {},
   "outputs": [],
   "source": [
    "important = pd.Series(data=gbc.feature_importances_, index=X_train.columns).sort_values()\n",
    "\n",
    "fig = plt.subplots()\n",
    "important.plot(kind='barh')\n",
    "plt.title('GradientBoosting feature importances')\n",
    "plt.show()"
   ]
  },
  {
   "cell_type": "code",
   "execution_count": null,
   "metadata": {},
   "outputs": [],
   "source": [
    "prob = gbc.predict_proba(X_test_scaled)\n",
    "\n",
    "plt.hist(prob[y_test==True][:,1],bins=50,alpha=0.5,label=\"target=1\")\n",
    "plt.hist(prob[y_test==False][:,1],bins=50,alpha=0.5,label=\"target=0\")\n",
    "plt.xlabel(\"predicted label\")\n",
    "plt.ylabel(\"counts\")\n",
    "plt.legend()\n",
    "plt.show()"
   ]
  },
  {
   "cell_type": "code",
   "execution_count": null,
   "metadata": {},
   "outputs": [],
   "source": []
  },
  {
   "cell_type": "code",
   "execution_count": null,
   "metadata": {},
   "outputs": [],
   "source": []
  }
 ],
 "metadata": {
  "kernelspec": {
   "display_name": "Python 3",
   "language": "python",
   "name": "python3"
  },
  "language_info": {
   "codemirror_mode": {
    "name": "ipython",
    "version": 3
   },
   "file_extension": ".py",
   "mimetype": "text/x-python",
   "name": "python",
   "nbconvert_exporter": "python",
   "pygments_lexer": "ipython3",
   "version": "3.8.5"
  }
 },
 "nbformat": 4,
 "nbformat_minor": 4
}
