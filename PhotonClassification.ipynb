{
 "cells": [
  {
   "cell_type": "markdown",
   "metadata": {},
   "source": [
    "# Structured data classification with data from coffea processor\n",
    "\n",
    "Distinguish `ttgamma` vs. `ttbar`"
   ]
  },
  {
   "cell_type": "code",
   "execution_count": 1,
   "metadata": {},
   "outputs": [],
   "source": [
    "from coffea import hist, util\n",
    "\n",
    "import coffea.processor as processor\n",
    "from coffea.nanoevents import NanoEventsFactory, NanoAODSchema\n",
    "import awkward as ak\n",
    "import numpy as np\n",
    "import uproot\n",
    "import re\n",
    "\n",
    "from pprint import pprint\n",
    "import matplotlib.pyplot as plt\n",
    "import pandas as pd\n",
    "\n",
    "import tensorflow as tf\n",
    "from tensorflow import keras\n",
    "from tensorflow.keras import layers\n",
    "from keras.models import Sequential\n",
    "from keras.layers import Dense\n",
    "#from tensorflow.keras.layers.experimental.preprocessing import Normalization\n",
    "\n",
    "from sklearn.preprocessing import StandardScaler\n",
    "from sklearn.preprocessing import MinMaxScaler\n",
    "from sklearn.model_selection import train_test_split\n",
    "from sklearn.metrics import roc_curve\n",
    "from sklearn.metrics import auc"
   ]
  },
  {
   "cell_type": "code",
   "execution_count": 2,
   "metadata": {},
   "outputs": [
    {
     "data": {
      "text/plain": [
       "'2.3.0'"
      ]
     },
     "execution_count": 2,
     "metadata": {},
     "output_type": "execute_result"
    }
   ],
   "source": [
    "tf.__version__"
   ]
  },
  {
   "cell_type": "code",
   "execution_count": 3,
   "metadata": {},
   "outputs": [],
   "source": [
    "class PhotonSelector(processor.ProcessorABC):\n",
    "    def __init__(self):\n",
    "        ## Initializer: define outputs.\n",
    "\n",
    "        # Declare axes\n",
    "        dataset_axis = hist.Cat(\"dataset\",\"Dataset\")\n",
    "        \n",
    "        photon_pt_axis = hist.Bin(\"pt\",\"photon $p_{T}$ [GeV]\", 40, 0, 400)\n",
    "        photon_eta_axis = hist.Bin(\"eta\",\"photon $\\eta$\", 50, -2.5, 2.5)\n",
    "        photon_phi_axis = hist.Bin(\"phi\",\"photon $\\phi$\", 64, -3.2, 3.2)\n",
    "        photon_reliso_all_axis = hist.Bin(\"reliso\",\"photon pfRelIso03_all\", 40, -0.5, 6)\n",
    "        photon_reliso_chg_axis = hist.Bin(\"reliso\",\"photon pfRelIso03_chg\", 40, -0.5, 6)\n",
    "        photon_sieie_axis = hist.Bin(\"sieie\",\"photon sigma_IetaIeta\", 40, 0, 0.05)\n",
    "        photon_r9_axis = hist.Bin(\"r9\",\"photon R9\", 40, -0.5, 1.5)\n",
    "        photon_hoe_axis = hist.Bin(\"hoe\",\"photon H over E\", 40, -0.5, 1)\n",
    "        \n",
    "        \n",
    "        # Accumulator object: dictionary storing histograms & counters to be filled\n",
    "        self._accumulator = processor.dict_accumulator({\n",
    "            \n",
    "            ## column accumulators: a list for each variable to be trained on,\n",
    "            ## filled when an event passes our selection.\n",
    "            'photon_pt': processor.column_accumulator(np.ndarray(shape=(1,1))),\n",
    "            'photon_eta': processor.column_accumulator(np.ndarray(shape=(1,1))),\n",
    "            'photon_phi': processor.column_accumulator(np.ndarray(shape=(1,1))),\n",
    "            'photon_pfRelIso03_all': processor.column_accumulator(np.ndarray(shape=(1,1))),\n",
    "            'photon_pfRelIso03_chg': processor.column_accumulator(np.ndarray(shape=(1,1))),\n",
    "            'photon_sieie': processor.column_accumulator(np.ndarray(shape=(1,1))),\n",
    "            'photon_r9': processor.column_accumulator(np.ndarray(shape=(1,1))),\n",
    "            'photon_hoe': processor.column_accumulator(np.ndarray(shape=(1,1))),\n",
    "            'label': processor.column_accumulator(np.ndarray(shape=(1,1))),\n",
    "            \n",
    "            ## histograms for features\n",
    "            'photon_pt_hist': hist.Hist(\"Counts\", dataset_axis, photon_pt_axis),\n",
    "            'photon_eta_hist': hist.Hist(\"Counts\", dataset_axis, photon_eta_axis),\n",
    "            'photon_phi_hist': hist.Hist(\"Counts\", dataset_axis, photon_phi_axis),\n",
    "            'photon_reliso_all_hist': hist.Hist(\"Counts\", dataset_axis, photon_reliso_all_axis),\n",
    "            'photon_reliso_chg_hist': hist.Hist(\"Counts\", dataset_axis, photon_reliso_chg_axis),\n",
    "            'photon_sieie_hist': hist.Hist(\"Counts\", dataset_axis, photon_sieie_axis),\n",
    "            'photon_r9_hist': hist.Hist(\"Counts\", dataset_axis, photon_r9_axis),\n",
    "            'photon_hoe_hist': hist.Hist(\"Counts\", dataset_axis, photon_hoe_axis),\n",
    "        }\n",
    "        )\n",
    "\n",
    "    @property\n",
    "    def accumulator(self):\n",
    "        return self._accumulator\n",
    "\n",
    "    \n",
    "\n",
    "    # The process method is where the heart of the analysis is.  \n",
    "    # This is where all of the selections are done and the histograms get filled \n",
    "    #  (things you did in notebook cells before will be done here instead)\n",
    "    def process(self, events):\n",
    "        ### The process function is where most of the work happens. As we'll see below, this is\n",
    "        ### where the main analysis work happens (object cuts, event selections, filling histograms). \n",
    "        \n",
    "        ## This gets us the accumulator dictionary we defined in init\n",
    "        output = self.accumulator.identity()\n",
    "\n",
    "        ## To access variables from the ntuples, use the \"events\" object\n",
    "        ## The dataset name is part of events.metadata\n",
    "        dataset = events.metadata['dataset']\n",
    "\n",
    "        ## The coffea NanoEventSchema packages all photon variables (columns) into the events.Muon object\n",
    "        ## Each variable can be accessed using photons.key_name\n",
    "        \n",
    "        ######## Select good photons ########\n",
    "        photons = events.Photon\n",
    "        photonSelect= ((photons.pt>20) & \n",
    "                        (abs(photons.eta) < 1.4442) &\n",
    "                        (photons.isScEtaEE | photons.isScEtaEB) &\n",
    "                        (photons.electronVeto) & \n",
    "                        np.invert(photons.pixelSeed) \n",
    "                       )\n",
    "        tightPhotons = photons[photonSelect]\n",
    "        \n",
    "        ## other objects (for event selection):\n",
    "        # muons\n",
    "        muons=events.Muon\n",
    "        muonSelectTight = ((muons.pt>30) &\n",
    "                           (abs(muons.eta)<2.4) &\n",
    "                           (muons.tightId) &\n",
    "                           (muons.pfRelIso04_all < 0.15)\n",
    "                          )\n",
    "        tightMuons = muons[muonSelectTight]\n",
    "        # jets & b-tagged jets\n",
    "        jets=events.Jet\n",
    "        jetSelectTight = ((jets.pt>30) &\n",
    "                          (abs(jets.eta)<2.4) &\n",
    "                          (jets.isTight)\n",
    "                         )\n",
    "        btaggedJetSelect = (jetSelectTight &\n",
    "                           (jets.btagDeepB>0.6321)\n",
    "                          )\n",
    "        tightJets = jets[jetSelectTight]\n",
    "        tightBJets = jets[btaggedJetSelect]\n",
    "        # electrons\n",
    "        electrons=events.Electron\n",
    "        electronSelectTight = ((electrons.pt> 35) &\n",
    "                           (abs(electrons.eta)<2.1) &\n",
    "                            electrons.cutBased>=4   \n",
    "                         )\n",
    "        tightEle = electrons[electronSelectTight]\n",
    "        \n",
    "        \n",
    "        ######## Select good events #########\n",
    "        trigger = events.HLT.IsoMu24 | events.HLT.IsoTkMu24\n",
    "        \n",
    "        # Select events passing the trigger, with exactly one tight muon, ≥4 jets, ≥ 1 b-tagged jets, and 0 electrons. \n",
    "        eventSelection = (trigger &\n",
    "                          (ak.num(tightMuons)==1) &\n",
    "                          (ak.num(tightJets)>=4) & \n",
    "                          (ak.num(tightBJets)>=1) &\n",
    "                          (ak.num(tightEle)==0) &\n",
    "                          (ak.num(tightPhotons)==1))\n",
    "\n",
    "        # Fill the muon_pt histogram using the tightMuons in events that pass our selection \n",
    "        # Note that ak.flatten() is required when filling a histogram to remove the jaggedness\n",
    "        output['photon_pt_hist'].fill(dataset=dataset,\n",
    "                                      pt=ak.flatten(tightPhotons[eventSelection,:1].pt))\n",
    "        output['photon_eta_hist'].fill(dataset=dataset,\n",
    "                                      eta=ak.flatten(tightPhotons[eventSelection,:1].eta))\n",
    "        output['photon_phi_hist'].fill(dataset=dataset,\n",
    "                                      phi=ak.flatten(tightPhotons[eventSelection,:1].phi))\n",
    "        output['photon_reliso_all_hist'].fill(dataset=dataset,\n",
    "                                         reliso=ak.flatten(tightPhotons[eventSelection,:1].pfRelIso03_all))\n",
    "        output['photon_reliso_chg_hist'].fill(dataset=dataset,\n",
    "                                         reliso=ak.flatten(tightPhotons[eventSelection,:1].pfRelIso03_chg))\n",
    "        output['photon_sieie_hist'].fill(dataset=dataset,\n",
    "                                      sieie=ak.flatten(tightPhotons[eventSelection,:1].sieie))\n",
    "        output['photon_r9_hist'].fill(dataset=dataset,\n",
    "                                      r9=ak.flatten(tightPhotons[eventSelection,:1].r9))\n",
    "        output['photon_hoe_hist'].fill(dataset=dataset,\n",
    "                                      hoe=ak.flatten(tightPhotons[eventSelection,:1].hoe))\n",
    "        \n",
    "        \n",
    "        # Leading photon\n",
    "        pt=processor.column_accumulator(ak.to_numpy(ak.pad_none(tightPhotons.pt[eventSelection,:1],1,clip=True)))\n",
    "        output['photon_pt']+=pt\n",
    "        \n",
    "        eta=processor.column_accumulator(ak.to_numpy(ak.pad_none(tightPhotons.eta[eventSelection,:1],1,clip=True)))\n",
    "        output['photon_eta']+=eta\n",
    "        \n",
    "        phi=processor.column_accumulator(ak.to_numpy(ak.pad_none(tightPhotons.phi[eventSelection,:1],1,clip=True)))\n",
    "        output['photon_phi']+=phi\n",
    "        \n",
    "        reliso_all=processor.column_accumulator(ak.to_numpy(ak.pad_none(tightPhotons.pfRelIso03_all[eventSelection,:1],1,clip=True)))\n",
    "        output['photon_pfRelIso03_all']+=reliso_all\n",
    "        \n",
    "        reliso_chg=processor.column_accumulator(ak.to_numpy(ak.pad_none(tightPhotons.pfRelIso03_chg[eventSelection,:1],1,clip=True)))\n",
    "        output['photon_pfRelIso03_chg']+=reliso_chg\n",
    "        \n",
    "        sieie=processor.column_accumulator(ak.to_numpy(ak.pad_none(tightPhotons.sieie[eventSelection,:1],1,clip=True)))\n",
    "        output['photon_sieie']+=sieie\n",
    "        \n",
    "        r9=processor.column_accumulator(ak.to_numpy(ak.pad_none(tightPhotons.r9[eventSelection,:1],1,clip=True)))\n",
    "        output['photon_r9']+=r9\n",
    "        \n",
    "        hoe=processor.column_accumulator(ak.to_numpy(ak.pad_none(tightPhotons.hoe[eventSelection,:1],1,clip=True)))\n",
    "        output['photon_hoe']+=hoe\n",
    "        \n",
    "        \n",
    "        if dataset=='TTGamma':\n",
    "            output['label'] += processor.column_accumulator(np.ones_like(ak.to_numpy(ak.pad_none(tightPhotons.pt[eventSelection,:1],1,clip=True))))\n",
    "        elif dataset=='TTbar':\n",
    "            output['label'] += processor.column_accumulator(np.zeros_like(ak.to_numpy(ak.pad_none(tightPhotons.pt[eventSelection,:1],1,clip=True))))\n",
    "        else:\n",
    "            output['label'] += processor.column_accumulator(2*np.ones_like(ak.to_numpy(ak.pad_none(tightPhotons.pt[eventSelection,:1],1,clip=True))))\n",
    "        \n",
    "        \n",
    "        return output\n",
    "\n",
    "    def postprocess(self, accumulator):\n",
    "        return accumulator"
   ]
  },
  {
   "cell_type": "code",
   "execution_count": 4,
   "metadata": {},
   "outputs": [],
   "source": [
    "#Define files to run over\n",
    "skimDir=\"/udrive/staff/dnoonan/Skims\"\n",
    "\n",
    "fileset = {\"TTGamma\":[f\"{skimDir}/TTGamma_SingleLept_2016_skim.root\"],\n",
    "           \"TTbar\":[f\"{skimDir}/TTbarPowheg_Semilept_2016_skim_1of10.root\",\n",
    "                    f\"{skimDir}/TTbarPowheg_Semilept_2016_skim_2of10.root\"],\n",
    "           #\"WGamma\":[f\"{skimDir}/WGamma_2016_skim.root\"],\n",
    "           #\"Z+jets\":[f'{skimDir}/DYjetsM50_ext2_2016_skim_1of10.root'],\n",
    "           #\"W+3jets\":[f\"{skimDir}/W3jets_2016_skim.root\"],\n",
    "           #\"W+4jets\":[f\"{skimDir}/W4jets_2016_skim.root\"],\n",
    "          }\n",
    "\n",
    "#filesetData = {\"DataMu\":[f\"{skimDir}/Data_SingleMu_b_2016_skim_1of10.root\"],\n",
    "#              }"
   ]
  },
  {
   "cell_type": "code",
   "execution_count": 5,
   "metadata": {},
   "outputs": [
    {
     "data": {
      "application/vnd.jupyter.widget-view+json": {
       "model_id": "95437d72980244afaf2ef66f77d7057d",
       "version_major": 2,
       "version_minor": 0
      },
      "text/plain": [
       "Preprocessing:   0%|          | 0/3 [00:00<?, ?file/s]"
      ]
     },
     "metadata": {},
     "output_type": "display_data"
    },
    {
     "data": {
      "application/vnd.jupyter.widget-view+json": {
       "model_id": "defe97a8d2b34723ab8b8178ce7e4dde",
       "version_major": 2,
       "version_minor": 0
      },
      "text/plain": [
       "Processing:   0%|          | 0/10 [00:00<?, ?chunk/s]"
      ]
     },
     "metadata": {},
     "output_type": "display_data"
    }
   ],
   "source": [
    "np.warnings.filterwarnings('ignore')\n",
    "\n",
    "#the NanoAODSchema needs to be adjusted, to remove cross references to FSRPhotons\n",
    "class SkimmedSchema(NanoAODSchema):\n",
    "    def __init__(self, base_form):\n",
    "        base_form[\"contents\"].pop(\"Muon_fsrPhotonIdx\", None)\n",
    "        super().__init__(base_form)\n",
    "\n",
    "#Run Coffea code using uproot\n",
    "outputMC = processor.run_uproot_job(\n",
    "    fileset,  #dictionary of datasets to run on, defined earlier in this cell\n",
    "    \"Events\", #Name of the TTree you will be opening\n",
    "    PhotonSelector(),  #Coffea processor you defined\n",
    "    processor.futures_executor,\n",
    "    executor_args={\"schema\": SkimmedSchema,'workers': 4},  ## workers = 2, parallelize jobs, running 2 at once\n",
    "    chunksize=1000000, #in each chunk, use 1 million events\n",
    "    #maxchunks=3, #limit to using only 3 chunks for each dataset (useful for testing purposes)\n",
    ")"
   ]
  },
  {
   "cell_type": "code",
   "execution_count": 6,
   "metadata": {},
   "outputs": [
    {
     "data": {
      "text/plain": [
       "'\\noutputData = processor.run_uproot_job(\\n    filesetData,\\n    \"Events\",\\n    PhotonSelector(),\\n    processor.futures_executor,\\n    executor_args={\"schema\": SkimmedSchema,\\'workers\\': 4},\\n    chunksize=1000000,\\n)\\n'"
      ]
     },
     "execution_count": 6,
     "metadata": {},
     "output_type": "execute_result"
    }
   ],
   "source": [
    "'''\n",
    "outputData = processor.run_uproot_job(\n",
    "    filesetData,\n",
    "    \"Events\",\n",
    "    PhotonSelector(),\n",
    "    processor.futures_executor,\n",
    "    executor_args={\"schema\": SkimmedSchema,'workers': 4},\n",
    "    chunksize=1000000,\n",
    ")\n",
    "'''"
   ]
  },
  {
   "cell_type": "code",
   "execution_count": 7,
   "metadata": {},
   "outputs": [
    {
     "data": {
      "text/plain": [
       "'\\nnEvents = {}\\nfor d in fileset:\\n    if not d in nEvents:\\n        nEvents[d] = 0\\n    for fName in fileset[d]:\\n        with uproot.open(fName)[\\'hEvents\\'] as hEvents:\\n            nEvents[d] += hEvents.values()[0] + hEvents.values()[2]\\ncx = {\\'TTGamma\\':7.509,\\n     \\'TTbar\\': 380.095,\\n     \\'WGamma\\':489,\\n     \\'Z+jets\\':6077.22,\\n     \\'W+3jets\\':1165.8108,\\n     \\'W+4jets\\':592.9176}\\nlumi_weight = {}\\nfor keyName in fileset:\\n    lumi_weight[keyName] = (cx[keyName]*450.)/nEvents[keyName]\\n    \\nfor key, obj in outputMC.items():\\n    if isinstance(obj, hist.Hist):\\n        obj.scale(lumi_weight, axis=\"dataset\")\\n'"
      ]
     },
     "execution_count": 7,
     "metadata": {},
     "output_type": "execute_result"
    }
   ],
   "source": [
    "'''\n",
    "nEvents = {}\n",
    "for d in fileset:\n",
    "    if not d in nEvents:\n",
    "        nEvents[d] = 0\n",
    "    for fName in fileset[d]:\n",
    "        with uproot.open(fName)['hEvents'] as hEvents:\n",
    "            nEvents[d] += hEvents.values()[0] + hEvents.values()[2]\n",
    "cx = {'TTGamma':7.509,\n",
    "     'TTbar': 380.095,\n",
    "     'WGamma':489,\n",
    "     'Z+jets':6077.22,\n",
    "     'W+3jets':1165.8108,\n",
    "     'W+4jets':592.9176}\n",
    "lumi_weight = {}\n",
    "for keyName in fileset:\n",
    "    lumi_weight[keyName] = (cx[keyName]*450.)/nEvents[keyName]\n",
    "    \n",
    "for key, obj in outputMC.items():\n",
    "    if isinstance(obj, hist.Hist):\n",
    "        obj.scale(lumi_weight, axis=\"dataset\")\n",
    "'''"
   ]
  },
  {
   "cell_type": "code",
   "execution_count": 8,
   "metadata": {},
   "outputs": [
    {
     "data": {
      "text/plain": [
       "\"\\ndata_err_opts = {\\n    'linestyle':'none',\\n    'marker': '.',\\n    'markersize': 10.,\\n    'color':'k',\\n    'elinewidth': 1,\\n}\\n\""
      ]
     },
     "execution_count": 8,
     "metadata": {},
     "output_type": "execute_result"
    }
   ],
   "source": [
    "'''\n",
    "data_err_opts = {\n",
    "    'linestyle':'none',\n",
    "    'marker': '.',\n",
    "    'markersize': 10.,\n",
    "    'color':'k',\n",
    "    'elinewidth': 1,\n",
    "}\n",
    "'''"
   ]
  },
  {
   "cell_type": "code",
   "execution_count": 9,
   "metadata": {},
   "outputs": [
    {
     "data": {
      "text/plain": [
       "<AxesSubplot:xlabel='photon $p_{T}$ [GeV]', ylabel='Counts'>"
      ]
     },
     "execution_count": 9,
     "metadata": {},
     "output_type": "execute_result"
    },
    {
     "data": {
      "image/png": "[encoded data removed]",
      "text/plain": [
       "<Figure size 432x288 with 1 Axes>"
      ]
     },
     "metadata": {
      "needs_background": "light"
     },
     "output_type": "display_data"
    }
   ],
   "source": [
    "#### Histograms ###\n",
    "\n",
    "hist.plot1d(outputMC['photon_pt_hist'],overlay='dataset',order=['TTbar','TTGamma'],stack=False,density=True)"
   ]
  },
  {
   "cell_type": "code",
   "execution_count": 10,
   "metadata": {},
   "outputs": [
    {
     "data": {
      "text/plain": [
       "<AxesSubplot:xlabel='photon $\\\\eta$', ylabel='Counts'>"
      ]
     },
     "execution_count": 10,
     "metadata": {},
     "output_type": "execute_result"
    },
    {
     "data": {
      "image/png": "[encoded data removed]",
      "text/plain": [
       "<Figure size 432x288 with 1 Axes>"
      ]
     },
     "metadata": {
      "needs_background": "light"
     },
     "output_type": "display_data"
    }
   ],
   "source": [
    "hist.plot1d(outputMC['photon_eta_hist'],overlay='dataset',order=['TTbar','TTGamma'],stack=False,density=True)"
   ]
  },
  {
   "cell_type": "code",
   "execution_count": 11,
   "metadata": {},
   "outputs": [
    {
     "data": {
      "text/plain": [
       "<AxesSubplot:xlabel='photon $\\\\phi$', ylabel='Counts'>"
      ]
     },
     "execution_count": 11,
     "metadata": {},
     "output_type": "execute_result"
    },
    {
     "data": {
      "image/png": "[encoded data removed]",
      "text/plain": [
       "<Figure size 432x288 with 1 Axes>"
      ]
     },
     "metadata": {
      "needs_background": "light"
     },
     "output_type": "display_data"
    }
   ],
   "source": [
    "hist.plot1d(outputMC['photon_phi_hist'],overlay='dataset',order=['TTbar','TTGamma'],stack=False,density=True)"
   ]
  },
  {
   "cell_type": "code",
   "execution_count": 12,
   "metadata": {},
   "outputs": [
    {
     "data": {
      "text/plain": [
       "<AxesSubplot:xlabel='photon pfRelIso03_all', ylabel='Counts'>"
      ]
     },
     "execution_count": 12,
     "metadata": {},
     "output_type": "execute_result"
    },
    {
     "data": {
      "image/png": "[encoded data removed]",
      "text/plain": [
       "<Figure size 432x288 with 1 Axes>"
      ]
     },
     "metadata": {
      "needs_background": "light"
     },
     "output_type": "display_data"
    }
   ],
   "source": [
    "hist.plot1d(outputMC['photon_reliso_all_hist'],overlay='dataset',order=['TTbar','TTGamma'],stack=False,density=True)"
   ]
  },
  {
   "cell_type": "code",
   "execution_count": 13,
   "metadata": {},
   "outputs": [
    {
     "data": {
      "text/plain": [
       "<AxesSubplot:xlabel='photon pfRelIso03_chg', ylabel='Counts'>"
      ]
     },
     "execution_count": 13,
     "metadata": {},
     "output_type": "execute_result"
    },
    {
     "data": {
      "image/png": "[encoded data removed]",
      "text/plain": [
       "<Figure size 432x288 with 1 Axes>"
      ]
     },
     "metadata": {
      "needs_background": "light"
     },
     "output_type": "display_data"
    }
   ],
   "source": [
    "hist.plot1d(outputMC['photon_reliso_chg_hist'],overlay='dataset',order=['TTbar','TTGamma'],stack=False,density=True)"
   ]
  },
  {
   "cell_type": "code",
   "execution_count": 14,
   "metadata": {},
   "outputs": [
    {
     "data": {
      "text/plain": [
       "<AxesSubplot:xlabel='photon sigma_IetaIeta', ylabel='Counts'>"
      ]
     },
     "execution_count": 14,
     "metadata": {},
     "output_type": "execute_result"
    },
    {
     "data": {
      "image/png": "[encoded data removed]",
      "text/plain": [
       "<Figure size 432x288 with 1 Axes>"
      ]
     },
     "metadata": {
      "needs_background": "light"
     },
     "output_type": "display_data"
    }
   ],
   "source": [
    "hist.plot1d(outputMC['photon_sieie_hist'],overlay='dataset',order=['TTbar','TTGamma'],stack=False,density=True)"
   ]
  },
  {
   "cell_type": "code",
   "execution_count": 15,
   "metadata": {},
   "outputs": [
    {
     "data": {
      "text/plain": [
       "<AxesSubplot:xlabel='photon R9', ylabel='Counts'>"
      ]
     },
     "execution_count": 15,
     "metadata": {},
     "output_type": "execute_result"
    },
    {
     "data": {
      "image/png": "[encoded data removed]",
      "text/plain": [
       "<Figure size 432x288 with 1 Axes>"
      ]
     },
     "metadata": {
      "needs_background": "light"
     },
     "output_type": "display_data"
    }
   ],
   "source": [
    "hist.plot1d(outputMC['photon_r9_hist'],overlay='dataset',order=['TTbar','TTGamma'],stack=False,density=True)"
   ]
  },
  {
   "cell_type": "code",
   "execution_count": 16,
   "metadata": {},
   "outputs": [
    {
     "data": {
      "text/plain": [
       "<AxesSubplot:xlabel='photon H over E', ylabel='Counts'>"
      ]
     },
     "execution_count": 16,
     "metadata": {},
     "output_type": "execute_result"
    },
    {
     "data": {
      "image/png": "[encoded data removed]",
      "text/plain": [
       "<Figure size 432x288 with 1 Axes>"
      ]
     },
     "metadata": {
      "needs_background": "light"
     },
     "output_type": "display_data"
    }
   ],
   "source": [
    "hist.plot1d(outputMC['photon_hoe_hist'],overlay='dataset',order=['TTbar','TTGamma'],stack=False,density=True)"
   ]
  },
  {
   "cell_type": "code",
   "execution_count": 17,
   "metadata": {},
   "outputs": [],
   "source": [
    "#### Column accumulators ####"
   ]
  },
  {
   "cell_type": "code",
   "execution_count": 18,
   "metadata": {},
   "outputs": [
    {
     "data": {
      "text/plain": [
       "(855579, 1)"
      ]
     },
     "execution_count": 18,
     "metadata": {},
     "output_type": "execute_result"
    }
   ],
   "source": [
    "outputMC['photon_pt'].value.shape"
   ]
  },
  {
   "cell_type": "code",
   "execution_count": 19,
   "metadata": {},
   "outputs": [
    {
     "data": {
      "text/plain": [
       "column_accumulator(masked_array(\n",
       "  data=[[ 53.17129517],\n",
       "        [ 57.22964859],\n",
       "        [129.58329773],\n",
       "        ...,\n",
       "        [ 59.70700455],\n",
       "        [ 27.29458809],\n",
       "        [ 64.61410522]],\n",
       "  mask=False,\n",
       "  fill_value=1e+20))"
      ]
     },
     "execution_count": 19,
     "metadata": {},
     "output_type": "execute_result"
    }
   ],
   "source": [
    "outputMC['photon_pt']"
   ]
  },
  {
   "cell_type": "code",
   "execution_count": 20,
   "metadata": {},
   "outputs": [
    {
     "data": {
      "text/plain": [
       "column_accumulator(masked_array(\n",
       "  data=[[-0.65087891],\n",
       "        [ 0.51928711],\n",
       "        [ 1.28808594],\n",
       "        ...,\n",
       "        [ 0.56982422],\n",
       "        [-0.33068848],\n",
       "        [ 0.37872314]],\n",
       "  mask=False,\n",
       "  fill_value=1e+20))"
      ]
     },
     "execution_count": 20,
     "metadata": {},
     "output_type": "execute_result"
    }
   ],
   "source": [
    "outputMC['photon_eta']"
   ]
  },
  {
   "cell_type": "code",
   "execution_count": 21,
   "metadata": {},
   "outputs": [
    {
     "data": {
      "text/plain": [
       "column_accumulator(masked_array(\n",
       "  data=[[-2.97558594],\n",
       "        [-1.35351562],\n",
       "        [ 0.75549316],\n",
       "        ...,\n",
       "        [-0.70544434],\n",
       "        [ 2.97460938],\n",
       "        [-3.05615234]],\n",
       "  mask=False,\n",
       "  fill_value=1e+20))"
      ]
     },
     "execution_count": 21,
     "metadata": {},
     "output_type": "execute_result"
    }
   ],
   "source": [
    "outputMC['photon_phi']"
   ]
  },
  {
   "cell_type": "code",
   "execution_count": 22,
   "metadata": {},
   "outputs": [
    {
     "data": {
      "text/plain": [
       "column_accumulator(masked_array(\n",
       "  data=[[0.],\n",
       "        [0.],\n",
       "        [0.],\n",
       "        ...,\n",
       "        [1.],\n",
       "        [1.],\n",
       "        [1.]],\n",
       "  mask=False,\n",
       "  fill_value=1e+20))"
      ]
     },
     "execution_count": 22,
     "metadata": {},
     "output_type": "execute_result"
    }
   ],
   "source": [
    "outputMC['label']"
   ]
  },
  {
   "cell_type": "markdown",
   "metadata": {},
   "source": [
    "## Preprocessing & training"
   ]
  },
  {
   "cell_type": "code",
   "execution_count": 23,
   "metadata": {},
   "outputs": [
    {
     "data": {
      "text/plain": [
       "array([[ 0.11885742, -0.83801374, -1.64584519, ...,  0.10981865,\n",
       "         0.55035766,  0.79068153],\n",
       "       [ 0.21890754,  0.65941019, -0.75239937, ..., -0.35108641,\n",
       "         0.04341469,  0.0555612 ],\n",
       "       [ 2.00263364,  1.6432174 ,  0.40925502, ...,  0.79203934,\n",
       "         0.10856399,  1.23840914],\n",
       "       ...,\n",
       "       [ 0.27998151,  0.72408091, -0.39543791, ...,  1.31994821,\n",
       "        -0.1642487 ,  0.17959385],\n",
       "       [-0.51907803, -0.42827631,  1.63155723, ..., -0.98863789,\n",
       "         1.01454641, -1.07888376],\n",
       "       [ 0.40095569,  0.47953499, -1.69022164, ..., -0.92569491,\n",
       "         0.88628373, -1.07888376]])"
      ]
     },
     "execution_count": 23,
     "metadata": {},
     "output_type": "execute_result"
    }
   ],
   "source": [
    "## mean = 0, stdev = 1\n",
    "\n",
    "scaler = StandardScaler() # from scikit learn\n",
    "\n",
    "feature_array = np.transpose(np.array([\n",
    "    np.array(outputMC['photon_pt'].value)[:,0],\n",
    "    np.array(outputMC['photon_eta'].value)[:,0],\n",
    "    np.array(outputMC['photon_phi'].value)[:,0],\n",
    "    np.array(outputMC['photon_pfRelIso03_all'].value)[:,0],\n",
    "    np.array(outputMC['photon_pfRelIso03_chg'].value)[:,0],\n",
    "    np.array(outputMC['photon_sieie'].value)[:,0],\n",
    "    np.array(outputMC['photon_r9'].value)[:,0],\n",
    "    np.array(outputMC['photon_hoe'].value)[:,0]\n",
    "]))\n",
    "\n",
    "scaler.fit(feature_array)\n",
    "scaled_feature_array = scaler.transform(feature_array)\n",
    "scaled_feature_array"
   ]
  },
  {
   "cell_type": "code",
   "execution_count": 24,
   "metadata": {},
   "outputs": [
    {
     "data": {
      "text/plain": [
       "array([[ 0.11885742, -0.83801374, -1.64584519, ...,  0.55035766,\n",
       "         0.79068153,  0.        ],\n",
       "       [ 0.21890754,  0.65941019, -0.75239937, ...,  0.04341469,\n",
       "         0.0555612 ,  0.        ],\n",
       "       [ 2.00263364,  1.6432174 ,  0.40925502, ...,  0.10856399,\n",
       "         1.23840914,  0.        ],\n",
       "       ...,\n",
       "       [ 0.27998151,  0.72408091, -0.39543791, ..., -0.1642487 ,\n",
       "         0.17959385,  1.        ],\n",
       "       [-0.51907803, -0.42827631,  1.63155723, ...,  1.01454641,\n",
       "        -1.07888376,  1.        ],\n",
       "       [ 0.40095569,  0.47953499, -1.69022164, ...,  0.88628373,\n",
       "        -1.07888376,  1.        ]])"
      ]
     },
     "execution_count": 24,
     "metadata": {},
     "output_type": "execute_result"
    }
   ],
   "source": [
    "# add target column\n",
    "data_array = np.append(scaled_feature_array, np.array(outputMC['label'].value), 1)\n",
    "data_array"
   ]
  },
  {
   "cell_type": "code",
   "execution_count": 25,
   "metadata": {},
   "outputs": [],
   "source": [
    "## numpy data array --> pandas dataframe ##\n",
    "df = pd.DataFrame({\n",
    "        'pt': data_array[:,0],\n",
    "        'eta': data_array[:,1],\n",
    "        'phi': data_array[:,2],\n",
    "        'pfRelIso03_all': data_array[:,3],\n",
    "        'pfRelIso03_chg': data_array[:,4],\n",
    "        'sieie': data_array[:,5],\n",
    "        'r9': data_array[:,6],\n",
    "        'hoe': data_array[:,7],\n",
    "        'target': data_array[:,8]\n",
    "})\n",
    "\n",
    "# split into features (=X) and labels (=y)\n",
    "X = np.array(df.drop(['target'],axis=1))\n",
    "y = df['target']\n",
    "\n",
    "# use sklearn train_test_split to shuffle & split into training, validation, testing datasets\n",
    "X_train, X_test, y_train, y_test = train_test_split(X, y, test_size=0.2, random_state=1)\n",
    "X_train, X_val, y_train, y_val = train_test_split(X_train, y_train, test_size=0.25, random_state=1)"
   ]
  },
  {
   "cell_type": "code",
   "execution_count": 26,
   "metadata": {},
   "outputs": [
    {
     "data": {
      "text/plain": [
       "array([[ 0.3802435 ,  0.9021597 , -0.68032126, ...,  0.14636618,\n",
       "        -1.56597656,  0.63337183],\n",
       "       [-0.61170422, -0.47310843,  1.36260905, ..., -0.95615119,\n",
       "         0.96161261, -1.07888376],\n",
       "       [ 1.16820823, -0.87472296, -1.0200028 , ..., -0.8383869 ,\n",
       "         0.91682247, -1.07888376],\n",
       "       ...,\n",
       "       [ 1.73413272, -1.63062056, -1.15743531, ...,  0.63366668,\n",
       "        -0.39227124, -0.59939169],\n",
       "       [-0.25568897,  0.32699645,  1.56243755, ..., -0.75310932,\n",
       "         1.02065416, -0.58275316],\n",
       "       [-0.0435212 , -0.03686421,  1.451093  , ..., -0.95818161,\n",
       "         0.86796049,  0.65757333]])"
      ]
     },
     "execution_count": 26,
     "metadata": {},
     "output_type": "execute_result"
    }
   ],
   "source": [
    "X_val"
   ]
  },
  {
   "cell_type": "code",
   "execution_count": 32,
   "metadata": {},
   "outputs": [
    {
     "name": "stdout",
     "output_type": "stream",
     "text": [
      "-9.583759267901101e-18\n",
      "0.9999999999999999\n"
     ]
    }
   ],
   "source": [
    "print(np.mean(df.pt)) # ~0\n",
    "print(np.std(df.pt))  # ~1"
   ]
  },
  {
   "cell_type": "code",
   "execution_count": 28,
   "metadata": {},
   "outputs": [
    {
     "name": "stdout",
     "output_type": "stream",
     "text": [
      "Model: \"sequential\"\n",
      "_________________________________________________________________\n",
      "Layer (type)                 Output Shape              Param #   \n",
      "=================================================================\n",
      "dense (Dense)                (None, 32)                288       \n",
      "_________________________________________________________________\n",
      "dense_1 (Dense)              (None, 32)                1056      \n",
      "_________________________________________________________________\n",
      "dense_2 (Dense)              (None, 1)                 33        \n",
      "=================================================================\n",
      "Total params: 1,377\n",
      "Trainable params: 1,377\n",
      "Non-trainable params: 0\n",
      "_________________________________________________________________\n"
     ]
    }
   ],
   "source": [
    "model = Sequential()\n",
    "model.add(Dense(32, input_shape=(8,), activation=\"relu\"))\n",
    "model.add(Dense(32, activation=\"relu\"))\n",
    "model.add(Dense(1,activation=\"sigmoid\"))\n",
    "\n",
    "model.compile(\"adam\", \"binary_crossentropy\", metrics=[\"accuracy\"])\n",
    "model.summary()"
   ]
  },
  {
   "cell_type": "code",
   "execution_count": 29,
   "metadata": {},
   "outputs": [
    {
     "name": "stdout",
     "output_type": "stream",
     "text": [
      "Epoch 1/5\n",
      "4011/4011 [==============================] - 6s 1ms/step - loss: 0.4920 - accuracy: 0.7845\n",
      "Epoch 2/5\n",
      "4011/4011 [==============================] - 6s 1ms/step - loss: 0.4831 - accuracy: 0.7899\n",
      "Epoch 3/5\n",
      "4011/4011 [==============================] - 6s 1ms/step - loss: 0.4819 - accuracy: 0.7903\n",
      "Epoch 4/5\n",
      "4011/4011 [==============================] - 6s 1ms/step - loss: 0.4812 - accuracy: 0.7907\n",
      "Epoch 5/5\n",
      "4011/4011 [==============================] - 5s 1ms/step - loss: 0.4807 - accuracy: 0.7911\n"
     ]
    },
    {
     "data": {
      "text/plain": [
       "<tensorflow.python.keras.callbacks.History at 0x7f39b454c430>"
      ]
     },
     "execution_count": 29,
     "metadata": {},
     "output_type": "execute_result"
    }
   ],
   "source": [
    "# train the model on our dataset\n",
    "model.fit(X_train, y_train, epochs=5, batch_size=128)"
   ]
  },
  {
   "cell_type": "code",
   "execution_count": 30,
   "metadata": {},
   "outputs": [],
   "source": [
    "### ROC curve ###\n",
    "y_pred = model.predict(X_test).ravel()\n",
    "fpr, tpr, thresholds = roc_curve(y_test, y_pred)\n",
    "\n",
    "area_under_curve = auc(fpr, tpr)"
   ]
  },
  {
   "cell_type": "code",
   "execution_count": 33,
   "metadata": {},
   "outputs": [
    {
     "data": {
      "image/png": "[encoded data removed]",
      "text/plain": [
       "<Figure size 432x288 with 1 Axes>"
      ]
     },
     "metadata": {
      "needs_background": "light"
     },
     "output_type": "display_data"
    }
   ],
   "source": [
    "plt.plot([0,1], [0,1], 'k--')\n",
    "plt.plot(fpr, tpr, label='area = {:.3f}'.format(area_under_curve))\n",
    "\n",
    "plt.xlabel('False positive rate')\n",
    "plt.ylabel('True positive rate')\n",
    "plt.title('ROC curve')\n",
    "plt.legend(loc='best')\n",
    "plt.show()"
   ]
  },
  {
   "cell_type": "code",
   "execution_count": 60,
   "metadata": {},
   "outputs": [
    {
     "data": {
      "image/png": "[encoded data removed]",
      "text/plain": [
       "<Figure size 432x288 with 1 Axes>"
      ]
     },
     "metadata": {
      "needs_background": "light"
     },
     "output_type": "display_data"
    }
   ],
   "source": [
    "plt.hist(y_pred,bins=50)\n",
    "plt.show()"
   ]
  },
  {
   "cell_type": "code",
   "execution_count": null,
   "metadata": {},
   "outputs": [],
   "source": []
  },
  {
   "cell_type": "code",
   "execution_count": null,
   "metadata": {},
   "outputs": [],
   "source": []
  },
  {
   "cell_type": "code",
   "execution_count": null,
   "metadata": {},
   "outputs": [],
   "source": []
  }
 ],
 "metadata": {
  "kernelspec": {
   "display_name": "Python 3",
   "language": "python",
   "name": "python3"
  },
  "language_info": {
   "codemirror_mode": {
    "name": "ipython",
    "version": 3
   },
   "file_extension": ".py",
   "mimetype": "text/x-python",
   "name": "python",
   "nbconvert_exporter": "python",
   "pygments_lexer": "ipython3",
   "version": "3.8.5"
  }
 },
 "nbformat": 4,
 "nbformat_minor": 4
}
